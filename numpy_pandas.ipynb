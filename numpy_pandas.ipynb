{
 "cells": [
  {
   "cell_type": "code",
   "execution_count": 1,
   "id": "daa3922a-70ce-429c-b36b-c4d6a00da627",
   "metadata": {},
   "outputs": [],
   "source": [
    "import numpy as np"
   ]
  },
  {
   "cell_type": "code",
   "execution_count": 2,
   "id": "f5c6c28f-5a1a-46c1-8863-9b0e8941e556",
   "metadata": {},
   "outputs": [],
   "source": [
    "big_array = np.random.rand(1000000)"
   ]
  },
  {
   "cell_type": "markdown",
   "id": "41aa4222-3984-4909-8609-3271a18b33cf",
   "metadata": {},
   "source": [
    "### Python function"
   ]
  },
  {
   "cell_type": "code",
   "execution_count": 3,
   "id": "b2737749-7c96-4df5-a6d0-a48765ee5e3c",
   "metadata": {},
   "outputs": [
    {
     "name": "stdout",
     "output_type": "stream",
     "text": [
      "98.6 ms ± 4.4 ms per loop (mean ± std. dev. of 7 runs, 10 loops each)\n"
     ]
    }
   ],
   "source": [
    "%%timeit\n",
    "sum(big_array)"
   ]
  },
  {
   "cell_type": "markdown",
   "id": "e8333289-2a41-46eb-8f7d-7fc8d2559dcc",
   "metadata": {},
   "source": [
    "### Numpy function"
   ]
  },
  {
   "cell_type": "code",
   "execution_count": 4,
   "id": "2bdb73e8-c4a0-41b3-91a1-045770de77f4",
   "metadata": {},
   "outputs": [
    {
     "name": "stdout",
     "output_type": "stream",
     "text": [
      "425 µs ± 24.8 µs per loop (mean ± std. dev. of 7 runs, 1,000 loops each)\n"
     ]
    }
   ],
   "source": [
    "%timeit big_array.sum()"
   ]
  },
  {
   "cell_type": "code",
   "execution_count": 5,
   "id": "a3421c76-dc6c-4f3d-9f03-a27874eaa8de",
   "metadata": {},
   "outputs": [
    {
     "name": "stdout",
     "output_type": "stream",
     "text": [
      "413 µs ± 6.99 µs per loop (mean ± std. dev. of 7 runs, 1,000 loops each)\n"
     ]
    }
   ],
   "source": [
    "%%timeit\n",
    "np.sum(big_array)"
   ]
  },
  {
   "cell_type": "markdown",
   "id": "6c3205c0-a999-4761-b464-8d73bff5722e",
   "metadata": {},
   "source": [
    "### Транслирование матриц"
   ]
  },
  {
   "cell_type": "markdown",
   "id": "325f1eff-a06c-4592-a879-e4ff949bf303",
   "metadata": {},
   "source": [
    "Транслирование одного массива"
   ]
  },
  {
   "cell_type": "code",
   "execution_count": 6,
   "id": "5df0a152-a621-4a44-9734-28d0a0f2e899",
   "metadata": {},
   "outputs": [
    {
     "name": "stdout",
     "output_type": "stream",
     "text": [
      "M = \n",
      "[[0. 0. 0.]\n",
      " [0. 0. 0.]]\n",
      "a = \n",
      "[0 1 2]\n",
      "(2, 3)\n",
      "(3,)\n"
     ]
    },
    {
     "data": {
      "text/plain": [
       "array([[0., 1., 2.],\n",
       "       [0., 1., 2.]])"
      ]
     },
     "execution_count": 6,
     "metadata": {},
     "output_type": "execute_result"
    }
   ],
   "source": [
    "M = np.zeros((2,3))\n",
    "print(f'''M = \n",
    "{M}''')\n",
    "a = np.arange(3)\n",
    "print(f'''a = \n",
    "{a}''')\n",
    "print(M.shape)\n",
    "print(a.shape)\n",
    "\n",
    "M + a"
   ]
  },
  {
   "cell_type": "markdown",
   "id": "6b829b1d-860c-47b4-8b5a-3c0ee0156415",
   "metadata": {},
   "source": [
    "Транслирование обоих массивов"
   ]
  },
  {
   "cell_type": "code",
   "execution_count": 7,
   "id": "7fa23795-e474-40b4-afe5-b58d5489209d",
   "metadata": {},
   "outputs": [
    {
     "name": "stdout",
     "output_type": "stream",
     "text": [
      "[[0]\n",
      " [1]\n",
      " [2]]\n",
      "==========\n",
      "[0 1 2]\n",
      "==========\n",
      "(3, 1)\n",
      "(3,)\n",
      "==========\n"
     ]
    },
    {
     "data": {
      "text/plain": [
       "array([[0, 1, 2],\n",
       "       [1, 2, 3],\n",
       "       [2, 3, 4]])"
      ]
     },
     "execution_count": 7,
     "metadata": {},
     "output_type": "execute_result"
    }
   ],
   "source": [
    "a = np.arange(3).reshape(3,1)\n",
    "print(a)\n",
    "print('='*10)\n",
    "b = np.arange(3)\n",
    "print(b)\n",
    "print('='*10)\n",
    "print(a.shape)\n",
    "print(b.shape)\n",
    "print('='*10)\n",
    "a + b"
   ]
  },
  {
   "cell_type": "markdown",
   "id": "0b5abaf5-52aa-4f83-a4b3-147bdf2a4eaf",
   "metadata": {},
   "source": [
    "Транслирование обоих массивов с ошибкой"
   ]
  },
  {
   "cell_type": "code",
   "execution_count": 8,
   "id": "35586f7f-8993-4f2f-8319-2e8c206ea97d",
   "metadata": {},
   "outputs": [
    {
     "name": "stdout",
     "output_type": "stream",
     "text": [
      "M = [[0. 0.]\n",
      " [0. 0.]\n",
      " [0. 0.]]\n",
      "a = [[0 1 2]]\n",
      "(3, 2)\n",
      "(1, 3)\n"
     ]
    }
   ],
   "source": [
    "M = np.zeros((3,2))\n",
    "print(f'M = {M}')\n",
    "a = np.arange(3).reshape(1,3)\n",
    "print(f'a = {a}')\n",
    "print(M.shape)\n",
    "print(a.shape)\n",
    "\n",
    "try:\n",
    "    M + a\n",
    "except ValueError as e:\n",
    "    pass"
   ]
  },
  {
   "cell_type": "markdown",
   "id": "0df08aba-f491-4bf0-b3a1-59a382a999d8",
   "metadata": {},
   "source": [
    "Обход ошибки"
   ]
  },
  {
   "cell_type": "code",
   "execution_count": 9,
   "id": "1ef2c779-1eb8-4bea-8f2c-487e322d1376",
   "metadata": {},
   "outputs": [
    {
     "name": "stdout",
     "output_type": "stream",
     "text": [
      "M = \n",
      "[[0. 0.]\n",
      " [0. 0.]\n",
      " [0. 0.]]\n",
      "a = \n",
      "[[0]\n",
      " [1]\n",
      " [2]]\n",
      "(3, 2)\n",
      "(3, 1)\n"
     ]
    },
    {
     "data": {
      "text/plain": [
       "array([[0., 0.],\n",
       "       [1., 1.],\n",
       "       [2., 2.]])"
      ]
     },
     "execution_count": 9,
     "metadata": {},
     "output_type": "execute_result"
    }
   ],
   "source": [
    "M = np.zeros((3,2))\n",
    "print(f'''M = \n",
    "{M}''')\n",
    "a = np.arange(3).reshape(3, 1)\n",
    "print(f'''a = \n",
    "{a}''')\n",
    "print(M.shape)\n",
    "print(a.shape)\n",
    "\n",
    "M + a"
   ]
  },
  {
   "cell_type": "markdown",
   "id": "e7b1f160-1a85-4867-be14-5ab395dd5c2b",
   "metadata": {},
   "source": [
    "### Центрирование массива"
   ]
  },
  {
   "cell_type": "code",
   "execution_count": 10,
   "id": "a298edf5-ae86-4534-9545-b3f92e1bb5cb",
   "metadata": {},
   "outputs": [
    {
     "data": {
      "text/plain": [
       "array([[0.48730204, 0.91578567, 1.10876354],\n",
       "       [0.66964395, 1.36256761, 1.75021216],\n",
       "       [1.89873024, 0.32247878, 0.57547039],\n",
       "       [0.04246239, 0.92899431, 1.76488052],\n",
       "       [1.07376284, 1.58292525, 1.22272531],\n",
       "       [0.13282368, 1.66294913, 1.91575741],\n",
       "       [1.05384338, 0.23223406, 0.20504196],\n",
       "       [0.21917411, 0.87445358, 0.19740888],\n",
       "       [0.1405974 , 0.07732495, 1.08374817],\n",
       "       [0.86696372, 1.65576832, 0.92279803]])"
      ]
     },
     "execution_count": 10,
     "metadata": {},
     "output_type": "execute_result"
    }
   ],
   "source": [
    "X = np.random.rand(10,3) * 2\n",
    "X"
   ]
  },
  {
   "cell_type": "code",
   "execution_count": 11,
   "id": "ed27a035-89dd-4334-9a9e-47827a2677b6",
   "metadata": {},
   "outputs": [
    {
     "data": {
      "text/plain": [
       "array([0.65853037, 0.96154817, 1.07468064])"
      ]
     },
     "execution_count": 11,
     "metadata": {},
     "output_type": "execute_result"
    }
   ],
   "source": [
    "Xmean = X.mean(axis=0) # mean по столбцам\n",
    "Xmean"
   ]
  },
  {
   "cell_type": "code",
   "execution_count": 12,
   "id": "3b5fc719-ef12-48ee-af39-d76fc22d199c",
   "metadata": {},
   "outputs": [
    {
     "data": {
      "text/plain": [
       "array([[-0.17122834, -0.04576249,  0.0340829 ],\n",
       "       [ 0.01111357,  0.40101944,  0.67553152],\n",
       "       [ 1.24019986, -0.63906938, -0.49921025],\n",
       "       [-0.61606798, -0.03255386,  0.69019989],\n",
       "       [ 0.41523247,  0.62137708,  0.14804467],\n",
       "       [-0.52570669,  0.70140097,  0.84107677],\n",
       "       [ 0.39531301, -0.72931411, -0.86963868],\n",
       "       [-0.43935627, -0.08709459, -0.87727176],\n",
       "       [-0.51793298, -0.88422322,  0.00906753],\n",
       "       [ 0.20843335,  0.69422016, -0.1518826 ]])"
      ]
     },
     "execution_count": 12,
     "metadata": {},
     "output_type": "execute_result"
    }
   ],
   "source": [
    "Xcentered = X - Xmean #отнимаем mean по столбцам из каждого элемента в стоблцах, центрируя матрицу\n",
    "Xcentered"
   ]
  },
  {
   "cell_type": "code",
   "execution_count": 13,
   "id": "795adea6-b5f3-42ce-8a67-93c27b77f288",
   "metadata": {},
   "outputs": [
    {
     "data": {
      "text/plain": [
       "-1.0"
      ]
     },
     "execution_count": 13,
     "metadata": {},
     "output_type": "execute_result"
    }
   ],
   "source": [
    "Xcentered.mean() - 1 #среднее по матрице теперь равно близко к нулю "
   ]
  },
  {
   "cell_type": "markdown",
   "id": "1c031cc7-9ed5-4dc8-b563-02e0ffdb33b9",
   "metadata": {},
   "source": [
    "### Построение графика двумерной ф-ии"
   ]
  },
  {
   "cell_type": "code",
   "execution_count": 14,
   "id": "443beaa5-2b2f-408c-9fe0-cba3aab3ffcf",
   "metadata": {},
   "outputs": [],
   "source": [
    "x = np.linspace(1,5,200)\n",
    "y = np.linspace(1,5,200).reshape(200,1)"
   ]
  },
  {
   "cell_type": "code",
   "execution_count": 15,
   "id": "2325dea2-4d2d-4f46-8154-ccbb26e5cfbb",
   "metadata": {},
   "outputs": [
    {
     "name": "stdout",
     "output_type": "stream",
     "text": [
      "(200,)\n",
      "(200, 1)\n"
     ]
    }
   ],
   "source": [
    "print(x.shape)\n",
    "print(y.shape)"
   ]
  },
  {
   "cell_type": "code",
   "execution_count": 16,
   "id": "645030f2-ea26-48cf-a1a4-bb37e8e6d25c",
   "metadata": {},
   "outputs": [
    {
     "data": {
      "text/plain": [
       "array([[ 2.        ,  2.0201005 ,  2.04020101, ...,  5.95979899,\n",
       "         5.9798995 ,  6.        ],\n",
       "       [ 2.0201005 ,  2.04020101,  2.06030151, ...,  5.9798995 ,\n",
       "         6.        ,  6.0201005 ],\n",
       "       [ 2.04020101,  2.06030151,  2.08040201, ...,  6.        ,\n",
       "         6.0201005 ,  6.04020101],\n",
       "       ...,\n",
       "       [ 5.95979899,  5.9798995 ,  6.        , ...,  9.91959799,\n",
       "         9.93969849,  9.95979899],\n",
       "       [ 5.9798995 ,  6.        ,  6.0201005 , ...,  9.93969849,\n",
       "         9.95979899,  9.9798995 ],\n",
       "       [ 6.        ,  6.0201005 ,  6.04020101, ...,  9.95979899,\n",
       "         9.9798995 , 10.        ]])"
      ]
     },
     "execution_count": 16,
     "metadata": {},
     "output_type": "execute_result"
    }
   ],
   "source": [
    "x + y"
   ]
  },
  {
   "cell_type": "code",
   "execution_count": 17,
   "id": "63f2fe75-dcb4-4929-874e-ad3c85e36a2d",
   "metadata": {},
   "outputs": [
    {
     "data": {
      "text/plain": [
       "array([[ 0.18037951,  0.21476919,  0.25041104, ...,  0.55451769,\n",
       "         0.49885695,  0.44192559],\n",
       "       [ 0.19123854,  0.22549213,  0.26097552, ...,  0.53882736,\n",
       "         0.48226742,  0.4245053 ],\n",
       "       [ 0.20209222,  0.23620517,  0.2715255 , ...,  0.52507534,\n",
       "         0.46781935,  0.40943564],\n",
       "       ...,\n",
       "       [-0.2180203 , -0.21512268, -0.20390566, ...,  0.48933299,\n",
       "         0.43449184,  0.38198828],\n",
       "       [-0.22532804, -0.22151489, -0.20933025, ...,  0.49157343,\n",
       "         0.43953434,  0.39018414],\n",
       "       [-0.23247283, -0.22772908, -0.21456372, ...,  0.49622145,\n",
       "         0.44714611,  0.40107702]])"
      ]
     },
     "execution_count": 17,
     "metadata": {},
     "output_type": "execute_result"
    }
   ],
   "source": [
    "z = np.sin(x) ** 10 + np.cos(10 + y * x) * np.cos(x)\n",
    "z"
   ]
  },
  {
   "cell_type": "code",
   "execution_count": 18,
   "id": "820af8c8-8a83-4dff-8f45-efdf9766cd9d",
   "metadata": {},
   "outputs": [],
   "source": [
    "import matplotlib.pyplot as plt"
   ]
  },
  {
   "cell_type": "code",
   "execution_count": 19,
   "id": "7c4e54da-4e40-41f9-b169-2b26fa2f460f",
   "metadata": {},
   "outputs": [
    {
     "data": {
      "image/png": "[encoded data removed]",
      "text/plain": [
       "<Figure size 640x480 with 2 Axes>"
      ]
     },
     "metadata": {},
     "output_type": "display_data"
    }
   ],
   "source": [
    "plt.imshow(z, origin='lower', cmap='viridis')\n",
    "plt.colorbar()\n",
    "plt.show()"
   ]
  },
  {
   "cell_type": "code",
   "execution_count": 20,
   "id": "7fd91623-33e5-45b3-b838-d46860298117",
   "metadata": {},
   "outputs": [],
   "source": [
    "import pandas as pd"
   ]
  },
  {
   "cell_type": "code",
   "execution_count": 21,
   "id": "47dc159d-8b99-46c7-9c07-da38064d1b8d",
   "metadata": {},
   "outputs": [
    {
     "name": "stdout",
     "output_type": "stream",
     "text": [
      "/opt/airflow/data/datascience\n"
     ]
    }
   ],
   "source": [
    "!pwd"
   ]
  },
  {
   "cell_type": "code",
   "execution_count": 22,
   "id": "8c90462e-9fa8-4a01-bdd2-6d4f56ac3329",
   "metadata": {},
   "outputs": [],
   "source": [
    "rainfall = pd.read_csv('PythonDataScienceHandbook/notebooks_v1/data/Seattle2014.csv')"
   ]
  },
  {
   "cell_type": "code",
   "execution_count": 23,
   "id": "9faa8a98-44b0-4870-a9e4-5254ea9659d9",
   "metadata": {},
   "outputs": [],
   "source": [
    "rainfall = rainfall.PRCP.values / 254"
   ]
  },
  {
   "cell_type": "code",
   "execution_count": 24,
   "id": "5f5d3b4d-8615-4329-b090-8f78d29eead1",
   "metadata": {},
   "outputs": [
    {
     "data": {
      "image/png": "[encoded data removed]",
      "text/plain": [
       "<Figure size 640x480 with 1 Axes>"
      ]
     },
     "metadata": {},
     "output_type": "display_data"
    }
   ],
   "source": [
    "plt.hist(rainfall)\n",
    "plt.show()"
   ]
  },
  {
   "cell_type": "markdown",
   "id": "a95f7304-c0d4-45c1-b0d1-4e4908d28477",
   "metadata": {},
   "source": [
    "### Создание матриц"
   ]
  },
  {
   "cell_type": "code",
   "execution_count": 25,
   "id": "e426e2dc-21d4-4fae-9483-cf0bb5e294b0",
   "metadata": {},
   "outputs": [
    {
     "data": {
      "text/plain": [
       "array([[ 1.38551915,  0.34118564,  0.13875802, -0.70362676, -2.17809569],\n",
       "       [-0.67240164, -1.37030585,  0.40917347,  1.31717644, -0.73223611]])"
      ]
     },
     "execution_count": 25,
     "metadata": {},
     "output_type": "execute_result"
    }
   ],
   "source": [
    "np.random.rand(2,5) # матрица с формой з-ия от 0 до 1\n",
    "np.random.randn(2,5) # матрица с формой з-ия с нормальным распределением"
   ]
  },
  {
   "cell_type": "code",
   "execution_count": 26,
   "id": "680b80ff-fa9e-4eea-9bd9-ea8d73b4b7ef",
   "metadata": {},
   "outputs": [
    {
     "data": {
      "text/plain": [
       "array([[0., 0., 0., 0., 0.],\n",
       "       [0., 0., 0., 0., 0.]])"
      ]
     },
     "execution_count": 26,
     "metadata": {},
     "output_type": "execute_result"
    }
   ],
   "source": [
    "np.zeros(2*5).reshape(2,5) # нулевая матрица с изменением формы"
   ]
  },
  {
   "cell_type": "code",
   "execution_count": 27,
   "id": "1dd58d25-11ec-4873-a96a-5e5bd8cf4d62",
   "metadata": {},
   "outputs": [
    {
     "data": {
      "text/plain": [
       "array([[4, 1, 1, 4, 4],\n",
       "       [2, 2, 3, 3, 4]])"
      ]
     },
     "execution_count": 27,
     "metadata": {},
     "output_type": "execute_result"
    }
   ],
   "source": [
    "np.random.randint(1,5, size=(2,5)) # интовая матрица в интервале значений с заданием формы"
   ]
  },
  {
   "cell_type": "markdown",
   "id": "101a460b-1713-4659-b858-d1d46289a477",
   "metadata": {},
   "source": [
    "### Выбор случайных точек"
   ]
  },
  {
   "cell_type": "code",
   "execution_count": 58,
   "id": "ed3f96c5-5450-4844-94c9-426d35bb58f2",
   "metadata": {},
   "outputs": [
    {
     "name": "stderr",
     "output_type": "stream",
     "text": [
      "/tmp/ipykernel_23209/295815886.py:3: RuntimeWarning: covariance is not symmetric positive-semidefinite.\n",
      "  x = np.random.multivariate_normal(mean, cov, 100)\n"
     ]
    }
   ],
   "source": [
    "mean = np.zeros(2,)\n",
    "cov = np.random.randint(1,5, size=(2,2))\n",
    "x = np.random.multivariate_normal(mean, cov, 100)"
   ]
  },
  {
   "cell_type": "code",
   "execution_count": 59,
   "id": "37d8fa16-0b93-4573-b29a-44245eba14b5",
   "metadata": {},
   "outputs": [
    {
     "data": {
      "text/plain": [
       "(20, 2)"
      ]
     },
     "execution_count": 59,
     "metadata": {},
     "output_type": "execute_result"
    }
   ],
   "source": [
    "indeces = np.random.choice(x.shape[0], size=20, replace=False) # выбираем случайно 20 индексов из интервала shape с учетом неповторения\n",
    "selection = x[indeces]\n",
    "selection.shape"
   ]
  },
  {
   "cell_type": "code",
   "execution_count": 60,
   "id": "5a1e3c3f-6c57-48ea-8f7a-d30b9bdf87ff",
   "metadata": {},
   "outputs": [
    {
     "data": {
      "text/plain": [
       "<matplotlib.collections.PathCollection at 0x7fd7eac82160>"
      ]
     },
     "execution_count": 60,
     "metadata": {},
     "output_type": "execute_result"
    },
    {
     "data": {
      "image/png": "[encoded data removed]",
      "text/plain": [
       "<Figure size 640x480 with 1 Axes>"
      ]
     },
     "metadata": {},
     "output_type": "display_data"
    }
   ],
   "source": [
    "plt.scatter(x[:,0], x[:,1], s=10)\n",
    "plt.scatter(selection[:,0], selection[:,1], s=200, c='none', edgecolors='red')"
   ]
  },
  {
   "cell_type": "markdown",
   "id": "6a9af616-e775-4312-88a7-bd175731a676",
   "metadata": {},
   "source": [
    "### Сортировка argsort"
   ]
  },
  {
   "cell_type": "code",
   "execution_count": 61,
   "id": "5d11ab4a-f4ed-42ff-aaa5-e2e863d5bf7b",
   "metadata": {},
   "outputs": [
    {
     "data": {
      "text/plain": [
       "array([ 0, 14, 12, 13,  5,  7,  2,  9,  8,  3, 10,  4, 11,  1,  6])"
      ]
     },
     "execution_count": 61,
     "metadata": {},
     "output_type": "execute_result"
    }
   ],
   "source": [
    "x = np.arange(15)\n",
    "np.random.shuffle(x) # перемешали зн-ия\n",
    "x"
   ]
  },
  {
   "cell_type": "code",
   "execution_count": 62,
   "id": "f98576df-9fc9-4737-9491-4329013e3a37",
   "metadata": {},
   "outputs": [
    {
     "data": {
      "text/plain": [
       "array([ 0, 13,  6,  9, 11,  4, 14,  5,  8,  7, 10, 12,  2,  3,  1])"
      ]
     },
     "execution_count": 62,
     "metadata": {},
     "output_type": "execute_result"
    }
   ],
   "source": [
    "indeces = np.argsort(x) # собрали индексы отсортированных элементов\n",
    "indeces"
   ]
  },
  {
   "cell_type": "code",
   "execution_count": 63,
   "id": "c707e7d7-1030-4986-9dc1-2ef2ae99938b",
   "metadata": {},
   "outputs": [
    {
     "data": {
      "text/plain": [
       "array([ 0,  1,  2,  3,  4,  5,  6,  7,  8,  9, 10, 11, 12, 13, 14])"
      ]
     },
     "execution_count": 63,
     "metadata": {},
     "output_type": "execute_result"
    }
   ],
   "source": [
    "x[indeces] # проиндексировали массив по отсортированным индексам"
   ]
  },
  {
   "cell_type": "code",
   "execution_count": 68,
   "id": "987cd155-9f06-4ffd-8361-557ca5e1b48f",
   "metadata": {},
   "outputs": [
    {
     "data": {
      "text/plain": [
       "array([[0.06414888, 0.66071462],\n",
       "       [0.27231499, 0.93168698],\n",
       "       [0.47766816, 0.22986009],\n",
       "       ...,\n",
       "       [0.43336664, 0.79283511],\n",
       "       [0.75415303, 0.30921179],\n",
       "       [0.95409386, 0.37310851]])"
      ]
     },
     "execution_count": 68,
     "metadata": {},
     "output_type": "execute_result"
    }
   ],
   "source": [
    "X = np.random.rand(1000, 2)\n",
    "X"
   ]
  },
  {
   "cell_type": "code",
   "execution_count": 69,
   "id": "47cc5774-152b-4a38-bc57-c717daa795bd",
   "metadata": {},
   "outputs": [
    {
     "data": {
      "text/plain": [
       "(array([112., 102.,  94.,  86., 118., 100.,  90., 104., 103.,  91.]),\n",
       " array([0.00128045, 0.1009669 , 0.20065334, 0.30033979, 0.40002624,\n",
       "        0.49971268, 0.59939913, 0.69908558, 0.79877202, 0.89845847,\n",
       "        0.99814491]),\n",
       " <BarContainer object of 10 artists>)"
      ]
     },
     "execution_count": 69,
     "metadata": {},
     "output_type": "execute_result"
    },
    {
     "data": {
      "image/png": "[encoded data removed]",
      "text/plain": [
       "<Figure size 640x480 with 1 Axes>"
      ]
     },
     "metadata": {},
     "output_type": "display_data"
    }
   ],
   "source": [
    "plt.hist(X[:,0])"
   ]
  },
  {
   "cell_type": "code",
   "execution_count": 70,
   "id": "6e4de73f-b19d-4267-9693-3bba01578729",
   "metadata": {},
   "outputs": [
    {
     "data": {
      "text/plain": [
       "<matplotlib.collections.PathCollection at 0x7fd7eaea2520>"
      ]
     },
     "execution_count": 70,
     "metadata": {},
     "output_type": "execute_result"
    },
    {
     "data": {
      "image/png": "[encoded data removed]",
      "text/plain": [
       "<Figure size 640x480 with 1 Axes>"
      ]
     },
     "metadata": {},
     "output_type": "display_data"
    }
   ],
   "source": [
    "plt.scatter(X[:,0], X[:,1], s=10)"
   ]
  },
  {
   "cell_type": "code",
   "execution_count": 71,
   "id": "86acf748-21da-4080-88df-d4ae056f21bc",
   "metadata": {},
   "outputs": [
    {
     "data": {
      "text/plain": [
       "array([[[0.06414888, 0.66071462]],\n",
       "\n",
       "       [[0.27231499, 0.93168698]],\n",
       "\n",
       "       [[0.47766816, 0.22986009]],\n",
       "\n",
       "       ...,\n",
       "\n",
       "       [[0.43336664, 0.79283511]],\n",
       "\n",
       "       [[0.75415303, 0.30921179]],\n",
       "\n",
       "       [[0.95409386, 0.37310851]]])"
      ]
     },
     "execution_count": 71,
     "metadata": {},
     "output_type": "execute_result"
    }
   ],
   "source": [
    "X[:, np.newaxis, :]"
   ]
  },
  {
   "cell_type": "code",
   "execution_count": 72,
   "id": "cc7d0554-2f4c-492c-81a0-d4d43b0a7f52",
   "metadata": {},
   "outputs": [
    {
     "data": {
      "text/plain": [
       "array([[[0.06414888, 0.66071462],\n",
       "        [0.27231499, 0.93168698],\n",
       "        [0.47766816, 0.22986009],\n",
       "        ...,\n",
       "        [0.43336664, 0.79283511],\n",
       "        [0.75415303, 0.30921179],\n",
       "        [0.95409386, 0.37310851]]])"
      ]
     },
     "execution_count": 72,
     "metadata": {},
     "output_type": "execute_result"
    }
   ],
   "source": [
    "X[np.newaxis, :, :]"
   ]
  },
  {
   "cell_type": "code",
   "execution_count": 73,
   "id": "8d5431f5-c4d9-4ad7-96d2-d61d4e8f631b",
   "metadata": {},
   "outputs": [
    {
     "data": {
      "text/plain": [
       "array([[[0.        , 0.        ],\n",
       "        [0.04333313, 0.07342602],\n",
       "        [0.17099819, 0.18563563],\n",
       "        ...,\n",
       "        [0.13632175, 0.01745582],\n",
       "        [0.47610572, 0.12355424],\n",
       "        [0.79200205, 0.08271728]],\n",
       "\n",
       "       [[0.04333313, 0.07342602],\n",
       "        [0.        , 0.        ],\n",
       "        [0.04216992, 0.49256098],\n",
       "        ...,\n",
       "        [0.02593764, 0.01927984],\n",
       "        [0.2321679 , 0.38747536],\n",
       "        [0.46482242, 0.31200991]],\n",
       "\n",
       "       [[0.17099819, 0.18563563],\n",
       "        [0.04216992, 0.49256098],\n",
       "        [0.        , 0.        ],\n",
       "        ...,\n",
       "        [0.00196262, 0.31694087],\n",
       "        [0.07644388, 0.00629669],\n",
       "        [0.22698145, 0.02052011]],\n",
       "\n",
       "       ...,\n",
       "\n",
       "       [[0.13632175, 0.01745582],\n",
       "        [0.02593764, 0.01927984],\n",
       "        [0.00196262, 0.31694087],\n",
       "        ...,\n",
       "        [0.        , 0.        ],\n",
       "        [0.1029039 , 0.23389151],\n",
       "        [0.27115683, 0.17617042]],\n",
       "\n",
       "       [[0.47610572, 0.12355424],\n",
       "        [0.2321679 , 0.38747536],\n",
       "        [0.07644388, 0.00629669],\n",
       "        ...,\n",
       "        [0.1029039 , 0.23389151],\n",
       "        [0.        , 0.        ],\n",
       "        [0.03997633, 0.00408279]],\n",
       "\n",
       "       [[0.79200205, 0.08271728],\n",
       "        [0.46482242, 0.31200991],\n",
       "        [0.22698145, 0.02052011],\n",
       "        ...,\n",
       "        [0.27115683, 0.17617042],\n",
       "        [0.03997633, 0.00408279],\n",
       "        [0.        , 0.        ]]])"
      ]
     },
     "execution_count": 73,
     "metadata": {},
     "output_type": "execute_result"
    }
   ],
   "source": [
    "df = (X[:, np.newaxis] - X[np.newaxis, :])**2\n",
    "df"
   ]
  },
  {
   "cell_type": "code",
   "execution_count": 74,
   "id": "3904cc3d-9dbc-43fe-b0bd-795d4f5eff9b",
   "metadata": {},
   "outputs": [
    {
     "data": {
      "text/plain": [
       "array([[0.        , 0.11675915, 0.35663382, ..., 0.15377758, 0.59965996,\n",
       "        0.87471933],\n",
       "       [0.11675915, 0.        , 0.5347309 , ..., 0.04521748, 0.61964326,\n",
       "        0.77683234],\n",
       "       [0.35663382, 0.5347309 , 0.        , ..., 0.31890349, 0.08274058,\n",
       "        0.24750155],\n",
       "       ...,\n",
       "       [0.15377758, 0.04521748, 0.31890349, ..., 0.        , 0.33679542,\n",
       "        0.44732725],\n",
       "       [0.59965996, 0.61964326, 0.08274058, ..., 0.33679542, 0.        ,\n",
       "        0.04405912],\n",
       "       [0.87471933, 0.77683234, 0.24750155, ..., 0.44732725, 0.04405912,\n",
       "        0.        ]])"
      ]
     },
     "execution_count": 74,
     "metadata": {},
     "output_type": "execute_result"
    }
   ],
   "source": [
    "dist = df.sum(-1)\n",
    "dist"
   ]
  },
  {
   "cell_type": "code",
   "execution_count": 75,
   "id": "2a826031-d817-44c2-aaab-3cb96cbdebd2",
   "metadata": {},
   "outputs": [
    {
     "data": {
      "text/plain": [
       "array([0., 0., 0., 0., 0., 0., 0., 0., 0., 0., 0., 0., 0., 0., 0., 0., 0.,\n",
       "       0., 0., 0., 0., 0., 0., 0., 0., 0., 0., 0., 0., 0., 0., 0., 0., 0.,\n",
       "       0., 0., 0., 0., 0., 0., 0., 0., 0., 0., 0., 0., 0., 0., 0., 0., 0.,\n",
       "       0., 0., 0., 0., 0., 0., 0., 0., 0., 0., 0., 0., 0., 0., 0., 0., 0.,\n",
       "       0., 0., 0., 0., 0., 0., 0., 0., 0., 0., 0., 0., 0., 0., 0., 0., 0.,\n",
       "       0., 0., 0., 0., 0., 0., 0., 0., 0., 0., 0., 0., 0., 0., 0., 0., 0.,\n",
       "       0., 0., 0., 0., 0., 0., 0., 0., 0., 0., 0., 0., 0., 0., 0., 0., 0.,\n",
       "       0., 0., 0., 0., 0., 0., 0., 0., 0., 0., 0., 0., 0., 0., 0., 0., 0.,\n",
       "       0., 0., 0., 0., 0., 0., 0., 0., 0., 0., 0., 0., 0., 0., 0., 0., 0.,\n",
       "       0., 0., 0., 0., 0., 0., 0., 0., 0., 0., 0., 0., 0., 0., 0., 0., 0.,\n",
       "       0., 0., 0., 0., 0., 0., 0., 0., 0., 0., 0., 0., 0., 0., 0., 0., 0.,\n",
       "       0., 0., 0., 0., 0., 0., 0., 0., 0., 0., 0., 0., 0., 0., 0., 0., 0.,\n",
       "       0., 0., 0., 0., 0., 0., 0., 0., 0., 0., 0., 0., 0., 0., 0., 0., 0.,\n",
       "       0., 0., 0., 0., 0., 0., 0., 0., 0., 0., 0., 0., 0., 0., 0., 0., 0.,\n",
       "       0., 0., 0., 0., 0., 0., 0., 0., 0., 0., 0., 0., 0., 0., 0., 0., 0.,\n",
       "       0., 0., 0., 0., 0., 0., 0., 0., 0., 0., 0., 0., 0., 0., 0., 0., 0.,\n",
       "       0., 0., 0., 0., 0., 0., 0., 0., 0., 0., 0., 0., 0., 0., 0., 0., 0.,\n",
       "       0., 0., 0., 0., 0., 0., 0., 0., 0., 0., 0., 0., 0., 0., 0., 0., 0.,\n",
       "       0., 0., 0., 0., 0., 0., 0., 0., 0., 0., 0., 0., 0., 0., 0., 0., 0.,\n",
       "       0., 0., 0., 0., 0., 0., 0., 0., 0., 0., 0., 0., 0., 0., 0., 0., 0.,\n",
       "       0., 0., 0., 0., 0., 0., 0., 0., 0., 0., 0., 0., 0., 0., 0., 0., 0.,\n",
       "       0., 0., 0., 0., 0., 0., 0., 0., 0., 0., 0., 0., 0., 0., 0., 0., 0.,\n",
       "       0., 0., 0., 0., 0., 0., 0., 0., 0., 0., 0., 0., 0., 0., 0., 0., 0.,\n",
       "       0., 0., 0., 0., 0., 0., 0., 0., 0., 0., 0., 0., 0., 0., 0., 0., 0.,\n",
       "       0., 0., 0., 0., 0., 0., 0., 0., 0., 0., 0., 0., 0., 0., 0., 0., 0.,\n",
       "       0., 0., 0., 0., 0., 0., 0., 0., 0., 0., 0., 0., 0., 0., 0., 0., 0.,\n",
       "       0., 0., 0., 0., 0., 0., 0., 0., 0., 0., 0., 0., 0., 0., 0., 0., 0.,\n",
       "       0., 0., 0., 0., 0., 0., 0., 0., 0., 0., 0., 0., 0., 0., 0., 0., 0.,\n",
       "       0., 0., 0., 0., 0., 0., 0., 0., 0., 0., 0., 0., 0., 0., 0., 0., 0.,\n",
       "       0., 0., 0., 0., 0., 0., 0., 0., 0., 0., 0., 0., 0., 0., 0., 0., 0.,\n",
       "       0., 0., 0., 0., 0., 0., 0., 0., 0., 0., 0., 0., 0., 0., 0., 0., 0.,\n",
       "       0., 0., 0., 0., 0., 0., 0., 0., 0., 0., 0., 0., 0., 0., 0., 0., 0.,\n",
       "       0., 0., 0., 0., 0., 0., 0., 0., 0., 0., 0., 0., 0., 0., 0., 0., 0.,\n",
       "       0., 0., 0., 0., 0., 0., 0., 0., 0., 0., 0., 0., 0., 0., 0., 0., 0.,\n",
       "       0., 0., 0., 0., 0., 0., 0., 0., 0., 0., 0., 0., 0., 0., 0., 0., 0.,\n",
       "       0., 0., 0., 0., 0., 0., 0., 0., 0., 0., 0., 0., 0., 0., 0., 0., 0.,\n",
       "       0., 0., 0., 0., 0., 0., 0., 0., 0., 0., 0., 0., 0., 0., 0., 0., 0.,\n",
       "       0., 0., 0., 0., 0., 0., 0., 0., 0., 0., 0., 0., 0., 0., 0., 0., 0.,\n",
       "       0., 0., 0., 0., 0., 0., 0., 0., 0., 0., 0., 0., 0., 0., 0., 0., 0.,\n",
       "       0., 0., 0., 0., 0., 0., 0., 0., 0., 0., 0., 0., 0., 0., 0., 0., 0.,\n",
       "       0., 0., 0., 0., 0., 0., 0., 0., 0., 0., 0., 0., 0., 0., 0., 0., 0.,\n",
       "       0., 0., 0., 0., 0., 0., 0., 0., 0., 0., 0., 0., 0., 0., 0., 0., 0.,\n",
       "       0., 0., 0., 0., 0., 0., 0., 0., 0., 0., 0., 0., 0., 0., 0., 0., 0.,\n",
       "       0., 0., 0., 0., 0., 0., 0., 0., 0., 0., 0., 0., 0., 0., 0., 0., 0.,\n",
       "       0., 0., 0., 0., 0., 0., 0., 0., 0., 0., 0., 0., 0., 0., 0., 0., 0.,\n",
       "       0., 0., 0., 0., 0., 0., 0., 0., 0., 0., 0., 0., 0., 0., 0., 0., 0.,\n",
       "       0., 0., 0., 0., 0., 0., 0., 0., 0., 0., 0., 0., 0., 0., 0., 0., 0.,\n",
       "       0., 0., 0., 0., 0., 0., 0., 0., 0., 0., 0., 0., 0., 0., 0., 0., 0.,\n",
       "       0., 0., 0., 0., 0., 0., 0., 0., 0., 0., 0., 0., 0., 0., 0., 0., 0.,\n",
       "       0., 0., 0., 0., 0., 0., 0., 0., 0., 0., 0., 0., 0., 0., 0., 0., 0.,\n",
       "       0., 0., 0., 0., 0., 0., 0., 0., 0., 0., 0., 0., 0., 0., 0., 0., 0.,\n",
       "       0., 0., 0., 0., 0., 0., 0., 0., 0., 0., 0., 0., 0., 0., 0., 0., 0.,\n",
       "       0., 0., 0., 0., 0., 0., 0., 0., 0., 0., 0., 0., 0., 0., 0., 0., 0.,\n",
       "       0., 0., 0., 0., 0., 0., 0., 0., 0., 0., 0., 0., 0., 0., 0., 0., 0.,\n",
       "       0., 0., 0., 0., 0., 0., 0., 0., 0., 0., 0., 0., 0., 0., 0., 0., 0.,\n",
       "       0., 0., 0., 0., 0., 0., 0., 0., 0., 0., 0., 0., 0., 0., 0., 0., 0.,\n",
       "       0., 0., 0., 0., 0., 0., 0., 0., 0., 0., 0., 0., 0., 0., 0., 0., 0.,\n",
       "       0., 0., 0., 0., 0., 0., 0., 0., 0., 0., 0., 0., 0., 0., 0., 0., 0.,\n",
       "       0., 0., 0., 0., 0., 0., 0., 0., 0., 0., 0., 0., 0., 0.])"
      ]
     },
     "execution_count": 75,
     "metadata": {},
     "output_type": "execute_result"
    }
   ],
   "source": [
    "dist.diagonal()"
   ]
  },
  {
   "cell_type": "code",
   "execution_count": 76,
   "id": "c75029c1-f654-4987-b234-f2bad7693233",
   "metadata": {},
   "outputs": [
    {
     "data": {
      "text/plain": [
       "array([[  0, 549, 712, ...,  41, 617, 792],\n",
       "       [  1, 796, 176, ..., 388, 617, 792],\n",
       "       [  2, 541, 241, ..., 216, 750, 610],\n",
       "       ...,\n",
       "       [997, 705, 303, ..., 388, 617, 792],\n",
       "       [998, 637, 949, ..., 910, 834, 962],\n",
       "       [999, 209, 439, ..., 733, 914, 962]])"
      ]
     },
     "execution_count": 76,
     "metadata": {},
     "output_type": "execute_result"
    }
   ],
   "source": [
    "np.argsort(dist, axis=1)"
   ]
  },
  {
   "cell_type": "code",
   "execution_count": 77,
   "id": "c13e943c-00d3-4b20-9c46-1fa96afd1f89",
   "metadata": {},
   "outputs": [],
   "source": [
    "K = 1\n",
    "partition = np.argpartition(dist, K + 1, axis=-1)"
   ]
  },
  {
   "cell_type": "code",
   "execution_count": 78,
   "id": "3d995c78-aa9c-4e0e-9d29-7e9fb0282817",
   "metadata": {},
   "outputs": [
    {
     "data": {
      "text/plain": [
       "array([[  0, 549, 712, ..., 997, 998, 999],\n",
       "       [  1, 796, 176, ..., 997, 998, 999],\n",
       "       [  2, 541, 241, ..., 997, 998, 999],\n",
       "       ...,\n",
       "       [997, 705, 303, ...,   0, 998, 999],\n",
       "       [998, 637, 949, ..., 997,   0, 999],\n",
       "       [999, 209, 439, ..., 997, 998,   0]])"
      ]
     },
     "execution_count": 78,
     "metadata": {},
     "output_type": "execute_result"
    }
   ],
   "source": [
    "partition"
   ]
  },
  {
   "cell_type": "code",
   "execution_count": 79,
   "id": "5d6c2664-99ba-481c-98f7-99db52594bf7",
   "metadata": {},
   "outputs": [
    {
     "data": {
      "image/png": "[encoded data removed]",
      "text/plain": [
       "<Figure size 640x480 with 1 Axes>"
      ]
     },
     "metadata": {},
     "output_type": "display_data"
    }
   ],
   "source": [
    "plt.scatter(X[:,0], X[:,1], s=10)\n",
    "\n",
    "K = 2\n",
    "for i in range(X.shape[0]):\n",
    "    for j in partition[i, :K+1]:\n",
    "        plt.plot(*zip(X[j], X[i]), color='black')\n"
   ]
  },
  {
   "cell_type": "markdown",
   "id": "85260424-7ea3-4235-b902-912e51d18c63",
   "metadata": {},
   "source": [
    "## Pandas"
   ]
  },
  {
   "cell_type": "markdown",
   "id": "1b2e4dba-62da-4d7f-a7e8-20951d394b27",
   "metadata": {},
   "source": [
    "#### Универсальные ф-ии Numpy в Pandas"
   ]
  },
  {
   "cell_type": "code",
   "execution_count": 80,
   "id": "fccd7fe1-bb47-4198-af06-91bb5e707bc7",
   "metadata": {},
   "outputs": [],
   "source": [
    "import pandas as pd\n",
    "import numpy as np"
   ]
  },
  {
   "cell_type": "code",
   "execution_count": 81,
   "id": "451ea12d-b313-4bd4-9912-ddb364079c27",
   "metadata": {},
   "outputs": [
    {
     "data": {
      "text/plain": [
       "0    7\n",
       "1    3\n",
       "2    4\n",
       "3    6\n",
       "dtype: int64"
      ]
     },
     "execution_count": 81,
     "metadata": {},
     "output_type": "execute_result"
    }
   ],
   "source": [
    "ser = pd.Series(np.random.randint(0, 10, 4))\n",
    "ser"
   ]
  },
  {
   "cell_type": "code",
   "execution_count": 82,
   "id": "e665481f-a1d4-41fe-8885-2d2357f290d8",
   "metadata": {},
   "outputs": [
    {
     "data": {
      "text/html": [
       "<div>\n",
       "<style scoped>\n",
       "    .dataframe tbody tr th:only-of-type {\n",
       "        vertical-align: middle;\n",
       "    }\n",
       "\n",
       "    .dataframe tbody tr th {\n",
       "        vertical-align: top;\n",
       "    }\n",
       "\n",
       "    .dataframe thead th {\n",
       "        text-align: right;\n",
       "    }\n",
       "</style>\n",
       "<table border=\"1\" class=\"dataframe\">\n",
       "  <thead>\n",
       "    <tr style=\"text-align: right;\">\n",
       "      <th></th>\n",
       "      <th>0</th>\n",
       "      <th>1</th>\n",
       "      <th>2</th>\n",
       "      <th>3</th>\n",
       "    </tr>\n",
       "  </thead>\n",
       "  <tbody>\n",
       "    <tr>\n",
       "      <th>0</th>\n",
       "      <td>9</td>\n",
       "      <td>4</td>\n",
       "      <td>7</td>\n",
       "      <td>0</td>\n",
       "    </tr>\n",
       "    <tr>\n",
       "      <th>1</th>\n",
       "      <td>4</td>\n",
       "      <td>4</td>\n",
       "      <td>7</td>\n",
       "      <td>0</td>\n",
       "    </tr>\n",
       "    <tr>\n",
       "      <th>2</th>\n",
       "      <td>7</td>\n",
       "      <td>2</td>\n",
       "      <td>1</td>\n",
       "      <td>6</td>\n",
       "    </tr>\n",
       "  </tbody>\n",
       "</table>\n",
       "</div>"
      ],
      "text/plain": [
       "   0  1  2  3\n",
       "0  9  4  7  0\n",
       "1  4  4  7  0\n",
       "2  7  2  1  6"
      ]
     },
     "execution_count": 82,
     "metadata": {},
     "output_type": "execute_result"
    }
   ],
   "source": [
    "df = pd.DataFrame(np.random.randint(0, 10, (3, 4)))\n",
    "df"
   ]
  },
  {
   "cell_type": "code",
   "execution_count": 83,
   "id": "37ee4743-afc0-4a2a-a357-af80a31deafb",
   "metadata": {},
   "outputs": [
    {
     "data": {
      "text/plain": [
       "0    1096.633158\n",
       "1      20.085537\n",
       "2      54.598150\n",
       "3     403.428793\n",
       "dtype: float64"
      ]
     },
     "execution_count": 83,
     "metadata": {},
     "output_type": "execute_result"
    }
   ],
   "source": [
    "np.exp(ser)"
   ]
  },
  {
   "cell_type": "code",
   "execution_count": 84,
   "id": "5a75330b-32db-457e-b03f-63badea18ddf",
   "metadata": {},
   "outputs": [
    {
     "data": {
      "text/html": [
       "<div>\n",
       "<style scoped>\n",
       "    .dataframe tbody tr th:only-of-type {\n",
       "        vertical-align: middle;\n",
       "    }\n",
       "\n",
       "    .dataframe tbody tr th {\n",
       "        vertical-align: top;\n",
       "    }\n",
       "\n",
       "    .dataframe thead th {\n",
       "        text-align: right;\n",
       "    }\n",
       "</style>\n",
       "<table border=\"1\" class=\"dataframe\">\n",
       "  <thead>\n",
       "    <tr style=\"text-align: right;\">\n",
       "      <th></th>\n",
       "      <th>0</th>\n",
       "      <th>1</th>\n",
       "      <th>2</th>\n",
       "      <th>3</th>\n",
       "    </tr>\n",
       "  </thead>\n",
       "  <tbody>\n",
       "    <tr>\n",
       "      <th>0</th>\n",
       "      <td>7.071068e-01</td>\n",
       "      <td>1.224647e-16</td>\n",
       "      <td>-0.707107</td>\n",
       "      <td>0.0</td>\n",
       "    </tr>\n",
       "    <tr>\n",
       "      <th>1</th>\n",
       "      <td>1.224647e-16</td>\n",
       "      <td>1.224647e-16</td>\n",
       "      <td>-0.707107</td>\n",
       "      <td>0.0</td>\n",
       "    </tr>\n",
       "    <tr>\n",
       "      <th>2</th>\n",
       "      <td>-7.071068e-01</td>\n",
       "      <td>1.000000e+00</td>\n",
       "      <td>0.707107</td>\n",
       "      <td>-1.0</td>\n",
       "    </tr>\n",
       "  </tbody>\n",
       "</table>\n",
       "</div>"
      ],
      "text/plain": [
       "              0             1         2    3\n",
       "0  7.071068e-01  1.224647e-16 -0.707107  0.0\n",
       "1  1.224647e-16  1.224647e-16 -0.707107  0.0\n",
       "2 -7.071068e-01  1.000000e+00  0.707107 -1.0"
      ]
     },
     "execution_count": 84,
     "metadata": {},
     "output_type": "execute_result"
    }
   ],
   "source": [
    "np.sin(df * np.pi / 4)"
   ]
  },
  {
   "cell_type": "markdown",
   "id": "0234cfa0-29f5-4e5e-a591-66d422af3f8e",
   "metadata": {},
   "source": [
    "#### сравнение'object' и 'int' в dtype Numpy -> int быстрее"
   ]
  },
  {
   "cell_type": "code",
   "execution_count": 85,
   "id": "eeebf2b8-6bb7-47d2-9edb-eb0c55a55975",
   "metadata": {},
   "outputs": [
    {
     "name": "stdout",
     "output_type": "stream",
     "text": [
      "dtype =  object\n",
      "34.1 ms ± 738 µs per loop (mean ± std. dev. of 7 runs, 10 loops each)\n",
      "\n",
      "dtype =  int64\n",
      "619 µs ± 18.6 µs per loop (mean ± std. dev. of 7 runs, 1,000 loops each)\n",
      "\n"
     ]
    }
   ],
   "source": [
    "for dtype in ['object', 'int']:\n",
    "    m = np.arange(1E6, dtype=dtype)\n",
    "    print('dtype = ', m.dtype)\n",
    "    %timeit m.sum()\n",
    "    print()\n"
   ]
  },
  {
   "cell_type": "markdown",
   "id": "0e69c6a7-0c58-4313-a053-83784a08574b",
   "metadata": {},
   "source": [
    "#### Значения None и nan в Numpy"
   ]
  },
  {
   "cell_type": "code",
   "execution_count": 86,
   "id": "0f2c2346-e8d9-411f-bdba-0aaed5c000ed",
   "metadata": {},
   "outputs": [],
   "source": [
    "vals1 = np.array([1, None, 2, 3])\n",
    "vals2 = np.array([1, np.nan, 2, 3])"
   ]
  },
  {
   "cell_type": "code",
   "execution_count": 87,
   "id": "0adb7e36-ad5c-49fb-91ec-6556128ef64d",
   "metadata": {},
   "outputs": [
    {
     "data": {
      "text/plain": [
       "(array([1, None, 2, 3], dtype=object), array([ 1., nan,  2.,  3.]))"
      ]
     },
     "execution_count": 87,
     "metadata": {},
     "output_type": "execute_result"
    }
   ],
   "source": [
    "vals1, vals2"
   ]
  },
  {
   "cell_type": "code",
   "execution_count": 89,
   "id": "84b26b93-6866-47a0-948f-43cdb2948f3a",
   "metadata": {},
   "outputs": [
    {
     "name": "stdout",
     "output_type": "stream",
     "text": [
      "unsupported operand type(s) for +: 'NoneType' and 'int'\n"
     ]
    }
   ],
   "source": [
    "try:\n",
    "    vals1 + 1 # None невозможно складывать\n",
    "except TypeError as e:\n",
    "    print(e)"
   ]
  },
  {
   "cell_type": "code",
   "execution_count": 90,
   "id": "313249a4-824a-41b1-91da-72303b241435",
   "metadata": {},
   "outputs": [
    {
     "data": {
      "text/plain": [
       "nan"
      ]
     },
     "execution_count": 90,
     "metadata": {},
     "output_type": "execute_result"
    }
   ],
   "source": [
    "np.sum(vals2) # с участием nan все превращается в nan"
   ]
  },
  {
   "cell_type": "code",
   "execution_count": 91,
   "id": "e17459ab-a19a-464f-b1cf-bdbc5a8b2bbe",
   "metadata": {},
   "outputs": [
    {
     "data": {
      "text/plain": [
       "6.0"
      ]
     },
     "execution_count": 91,
     "metadata": {},
     "output_type": "execute_result"
    }
   ],
   "source": [
    "np.nansum(vals2) # либо игнорить nan с помощью ф-ии"
   ]
  },
  {
   "cell_type": "markdown",
   "id": "f54f5afa-30ad-4213-af3c-80f0863f2f8e",
   "metadata": {},
   "source": [
    "#### Значения None и nan в Pandas и выявление пустых зн-ий"
   ]
  },
  {
   "cell_type": "code",
   "execution_count": 92,
   "id": "3c2086ef-2203-43e4-abba-0c69d405409e",
   "metadata": {},
   "outputs": [
    {
     "data": {
      "text/plain": [
       "0    1.0\n",
       "1    NaN\n",
       "2    2.0\n",
       "3    NaN\n",
       "4    3.0\n",
       "dtype: float64"
      ]
     },
     "execution_count": 92,
     "metadata": {},
     "output_type": "execute_result"
    }
   ],
   "source": [
    "ser = pd.Series([1, None, 2, np.nan, 3]) # повышение до nan и float\n",
    "ser"
   ]
  },
  {
   "cell_type": "code",
   "execution_count": 93,
   "id": "8d2522ff-5384-4484-b78a-d216ec03654f",
   "metadata": {},
   "outputs": [
    {
     "data": {
      "text/plain": [
       "0    1.0\n",
       "2    2.0\n",
       "4    3.0\n",
       "dtype: float64"
      ]
     },
     "execution_count": 93,
     "metadata": {},
     "output_type": "execute_result"
    }
   ],
   "source": [
    "ser.loc[ser.notnull()] # маскирование Series"
   ]
  },
  {
   "cell_type": "code",
   "execution_count": 94,
   "id": "6d6310c9-43a5-4c82-a573-401b5d3d16f3",
   "metadata": {},
   "outputs": [],
   "source": [
    "df = pd.DataFrame([\n",
    "    [1, np.nan, 2],\n",
    "    [2, 3,      5],\n",
    "    [np.nan, 3, 5]\n",
    "])"
   ]
  },
  {
   "cell_type": "code",
   "execution_count": 95,
   "id": "17c74e57-da25-4d47-8bc7-437dcf9eb1dd",
   "metadata": {},
   "outputs": [
    {
     "data": {
      "text/plain": [
       "0     True\n",
       "1    False\n",
       "2     True\n",
       "dtype: bool"
      ]
     },
     "execution_count": 95,
     "metadata": {},
     "output_type": "execute_result"
    }
   ],
   "source": [
    "df.isna().any(axis=1)"
   ]
  },
  {
   "cell_type": "markdown",
   "id": "0fc844ea-d4e7-4d86-ab28-c5b54168c61a",
   "metadata": {},
   "source": [
    "#### Ф-ия создания DataFrame"
   ]
  },
  {
   "cell_type": "code",
   "execution_count": 96,
   "id": "ac8aba0e-d946-47e9-a99b-cb17ee59a21b",
   "metadata": {},
   "outputs": [],
   "source": [
    "cols = 'ABC'\n",
    "ind = range(3)"
   ]
  },
  {
   "cell_type": "code",
   "execution_count": 97,
   "id": "28f17445-98d1-41b9-b9b3-378f94f68adf",
   "metadata": {},
   "outputs": [],
   "source": [
    "def make_df(cols, ind):\n",
    "    data = {c: [str(c) + str(i) for i in ind] for c in cols}\n",
    "    return pd.DataFrame(data, ind)"
   ]
  },
  {
   "cell_type": "code",
   "execution_count": 98,
   "id": "7eb9af8d-9de5-495c-b883-e168267d9755",
   "metadata": {},
   "outputs": [],
   "source": [
    "df1 = make_df('AB', [1,2])\n",
    "df2 = make_df('AB', [3,4])"
   ]
  },
  {
   "cell_type": "markdown",
   "id": "a6593cbb-05ac-4124-a6a4-94a1e2418652",
   "metadata": {},
   "source": [
    "#### Merges Pandas"
   ]
  },
  {
   "cell_type": "code",
   "execution_count": 99,
   "id": "57f7b451-1f30-441a-876d-a509d34d25ef",
   "metadata": {},
   "outputs": [
    {
     "name": "stdout",
     "output_type": "stream",
     "text": [
      "  % Total    % Received % Xferd  Average Speed   Time    Time     Time  Current\n",
      "                                 Dload  Upload   Total   Spent    Left  Speed\n",
      "100 57935  100 57935    0     0   163k      0 --:--:-- --:--:-- --:--:--  162k\n",
      "  % Total    % Received % Xferd  Average Speed   Time    Time     Time  Current\n",
      "                                 Dload  Upload   Total   Spent    Left  Speed\n",
      "100   835  100   835    0     0   2971      0 --:--:-- --:--:-- --:--:--  2971\n",
      "  % Total    % Received % Xferd  Average Speed   Time    Time     Time  Current\n",
      "                                 Dload  Upload   Total   Spent    Left  Speed\n",
      "100   872  100   872    0     0   3694      0 --:--:-- --:--:-- --:--:--  3694\n"
     ]
    }
   ],
   "source": [
    "!curl -O https://raw.githubusercontent.com/jakevdp/PythonDataScienceHandbook/master/notebooks/data/state-population.csv\n",
    "!curl -O https://raw.githubusercontent.com/jakevdp/PythonDataScienceHandbook/master/notebooks/data/state-areas.csv\n",
    "!curl -O https://raw.githubusercontent.com/jakevdp/PythonDataScienceHandbook/master/notebooks/data/state-abbrevs.csv"
   ]
  },
  {
   "cell_type": "code",
   "execution_count": 100,
   "id": "d8b90fa8-b38e-4f43-b533-03f0eec75304",
   "metadata": {},
   "outputs": [
    {
     "name": "stdout",
     "output_type": "stream",
     "text": [
      "  state/region     ages  year  population\n",
      "0           AL  under18  2012   1117489.0\n",
      "(2544, 4)\n",
      "     state  area (sq. mi)\n",
      "0  Alabama          52423\n",
      "\n",
      "     state abbreviation\n",
      "0  Alabama           AL\n"
     ]
    }
   ],
   "source": [
    "pop = pd.read_csv('state-population.csv')\n",
    "areas = pd.read_csv('state-areas.csv')\n",
    "abbrevs = pd.read_csv('state-abbrevs.csv')\n",
    "print(pop.head(1))\n",
    "print(pop.shape)\n",
    "print(areas.head(1))\n",
    "print()\n",
    "print(abbrevs.head(1))"
   ]
  },
  {
   "cell_type": "code",
   "execution_count": 101,
   "id": "1901c4b5-009a-43c8-a42d-99b9bce6f450",
   "metadata": {},
   "outputs": [],
   "source": [
    "merged = pd.merge(pop, abbrevs, how='outer', left_on='state/region', right_on='abbreviation')"
   ]
  },
  {
   "cell_type": "code",
   "execution_count": 102,
   "id": "5acc1859-661d-4efa-a2ce-45a8e56e29c0",
   "metadata": {},
   "outputs": [
    {
     "data": {
      "text/html": [
       "<div>\n",
       "<style scoped>\n",
       "    .dataframe tbody tr th:only-of-type {\n",
       "        vertical-align: middle;\n",
       "    }\n",
       "\n",
       "    .dataframe tbody tr th {\n",
       "        vertical-align: top;\n",
       "    }\n",
       "\n",
       "    .dataframe thead th {\n",
       "        text-align: right;\n",
       "    }\n",
       "</style>\n",
       "<table border=\"1\" class=\"dataframe\">\n",
       "  <thead>\n",
       "    <tr style=\"text-align: right;\">\n",
       "      <th></th>\n",
       "      <th>state/region</th>\n",
       "      <th>ages</th>\n",
       "      <th>year</th>\n",
       "      <th>population</th>\n",
       "      <th>state</th>\n",
       "      <th>abbreviation</th>\n",
       "    </tr>\n",
       "  </thead>\n",
       "  <tbody>\n",
       "    <tr>\n",
       "      <th>2448</th>\n",
       "      <td>PR</td>\n",
       "      <td>under18</td>\n",
       "      <td>1990</td>\n",
       "      <td>NaN</td>\n",
       "      <td>NaN</td>\n",
       "      <td>NaN</td>\n",
       "    </tr>\n",
       "    <tr>\n",
       "      <th>2449</th>\n",
       "      <td>PR</td>\n",
       "      <td>total</td>\n",
       "      <td>1990</td>\n",
       "      <td>NaN</td>\n",
       "      <td>NaN</td>\n",
       "      <td>NaN</td>\n",
       "    </tr>\n",
       "    <tr>\n",
       "      <th>2450</th>\n",
       "      <td>PR</td>\n",
       "      <td>total</td>\n",
       "      <td>1991</td>\n",
       "      <td>NaN</td>\n",
       "      <td>NaN</td>\n",
       "      <td>NaN</td>\n",
       "    </tr>\n",
       "    <tr>\n",
       "      <th>2451</th>\n",
       "      <td>PR</td>\n",
       "      <td>under18</td>\n",
       "      <td>1991</td>\n",
       "      <td>NaN</td>\n",
       "      <td>NaN</td>\n",
       "      <td>NaN</td>\n",
       "    </tr>\n",
       "    <tr>\n",
       "      <th>2452</th>\n",
       "      <td>PR</td>\n",
       "      <td>total</td>\n",
       "      <td>1993</td>\n",
       "      <td>NaN</td>\n",
       "      <td>NaN</td>\n",
       "      <td>NaN</td>\n",
       "    </tr>\n",
       "    <tr>\n",
       "      <th>...</th>\n",
       "      <td>...</td>\n",
       "      <td>...</td>\n",
       "      <td>...</td>\n",
       "      <td>...</td>\n",
       "      <td>...</td>\n",
       "      <td>...</td>\n",
       "    </tr>\n",
       "    <tr>\n",
       "      <th>2539</th>\n",
       "      <td>USA</td>\n",
       "      <td>total</td>\n",
       "      <td>2010</td>\n",
       "      <td>309326295.0</td>\n",
       "      <td>NaN</td>\n",
       "      <td>NaN</td>\n",
       "    </tr>\n",
       "    <tr>\n",
       "      <th>2540</th>\n",
       "      <td>USA</td>\n",
       "      <td>under18</td>\n",
       "      <td>2011</td>\n",
       "      <td>73902222.0</td>\n",
       "      <td>NaN</td>\n",
       "      <td>NaN</td>\n",
       "    </tr>\n",
       "    <tr>\n",
       "      <th>2541</th>\n",
       "      <td>USA</td>\n",
       "      <td>total</td>\n",
       "      <td>2011</td>\n",
       "      <td>311582564.0</td>\n",
       "      <td>NaN</td>\n",
       "      <td>NaN</td>\n",
       "    </tr>\n",
       "    <tr>\n",
       "      <th>2542</th>\n",
       "      <td>USA</td>\n",
       "      <td>under18</td>\n",
       "      <td>2012</td>\n",
       "      <td>73708179.0</td>\n",
       "      <td>NaN</td>\n",
       "      <td>NaN</td>\n",
       "    </tr>\n",
       "    <tr>\n",
       "      <th>2543</th>\n",
       "      <td>USA</td>\n",
       "      <td>total</td>\n",
       "      <td>2012</td>\n",
       "      <td>313873685.0</td>\n",
       "      <td>NaN</td>\n",
       "      <td>NaN</td>\n",
       "    </tr>\n",
       "  </tbody>\n",
       "</table>\n",
       "<p>96 rows × 6 columns</p>\n",
       "</div>"
      ],
      "text/plain": [
       "     state/region     ages  year   population state abbreviation\n",
       "2448           PR  under18  1990          NaN   NaN          NaN\n",
       "2449           PR    total  1990          NaN   NaN          NaN\n",
       "2450           PR    total  1991          NaN   NaN          NaN\n",
       "2451           PR  under18  1991          NaN   NaN          NaN\n",
       "2452           PR    total  1993          NaN   NaN          NaN\n",
       "...           ...      ...   ...          ...   ...          ...\n",
       "2539          USA    total  2010  309326295.0   NaN          NaN\n",
       "2540          USA  under18  2011   73902222.0   NaN          NaN\n",
       "2541          USA    total  2011  311582564.0   NaN          NaN\n",
       "2542          USA  under18  2012   73708179.0   NaN          NaN\n",
       "2543          USA    total  2012  313873685.0   NaN          NaN\n",
       "\n",
       "[96 rows x 6 columns]"
      ]
     },
     "execution_count": 102,
     "metadata": {},
     "output_type": "execute_result"
    }
   ],
   "source": [
    "merged.loc[merged.isna().any(axis=1),:]"
   ]
  },
  {
   "cell_type": "code",
   "execution_count": 103,
   "id": "ec3cc87c-c86e-49f6-94be-ad0710b74445",
   "metadata": {},
   "outputs": [],
   "source": [
    "merged.loc[merged['state/region']=='PR','state'] = 'Puerto Rico'"
   ]
  },
  {
   "cell_type": "code",
   "execution_count": 104,
   "id": "4336184a-decc-4a4d-9bf4-80f8a8fd14ad",
   "metadata": {},
   "outputs": [
    {
     "data": {
      "text/html": [
       "<div>\n",
       "<style scoped>\n",
       "    .dataframe tbody tr th:only-of-type {\n",
       "        vertical-align: middle;\n",
       "    }\n",
       "\n",
       "    .dataframe tbody tr th {\n",
       "        vertical-align: top;\n",
       "    }\n",
       "\n",
       "    .dataframe thead th {\n",
       "        text-align: right;\n",
       "    }\n",
       "</style>\n",
       "<table border=\"1\" class=\"dataframe\">\n",
       "  <thead>\n",
       "    <tr style=\"text-align: right;\">\n",
       "      <th></th>\n",
       "      <th>state/region</th>\n",
       "      <th>ages</th>\n",
       "      <th>year</th>\n",
       "      <th>population</th>\n",
       "      <th>state</th>\n",
       "      <th>abbreviation</th>\n",
       "    </tr>\n",
       "  </thead>\n",
       "  <tbody>\n",
       "    <tr>\n",
       "      <th>2448</th>\n",
       "      <td>PR</td>\n",
       "      <td>under18</td>\n",
       "      <td>1990</td>\n",
       "      <td>NaN</td>\n",
       "      <td>Puerto Rico</td>\n",
       "      <td>NaN</td>\n",
       "    </tr>\n",
       "    <tr>\n",
       "      <th>2449</th>\n",
       "      <td>PR</td>\n",
       "      <td>total</td>\n",
       "      <td>1990</td>\n",
       "      <td>NaN</td>\n",
       "      <td>Puerto Rico</td>\n",
       "      <td>NaN</td>\n",
       "    </tr>\n",
       "    <tr>\n",
       "      <th>2450</th>\n",
       "      <td>PR</td>\n",
       "      <td>total</td>\n",
       "      <td>1991</td>\n",
       "      <td>NaN</td>\n",
       "      <td>Puerto Rico</td>\n",
       "      <td>NaN</td>\n",
       "    </tr>\n",
       "    <tr>\n",
       "      <th>2451</th>\n",
       "      <td>PR</td>\n",
       "      <td>under18</td>\n",
       "      <td>1991</td>\n",
       "      <td>NaN</td>\n",
       "      <td>Puerto Rico</td>\n",
       "      <td>NaN</td>\n",
       "    </tr>\n",
       "    <tr>\n",
       "      <th>2452</th>\n",
       "      <td>PR</td>\n",
       "      <td>total</td>\n",
       "      <td>1993</td>\n",
       "      <td>NaN</td>\n",
       "      <td>Puerto Rico</td>\n",
       "      <td>NaN</td>\n",
       "    </tr>\n",
       "    <tr>\n",
       "      <th>...</th>\n",
       "      <td>...</td>\n",
       "      <td>...</td>\n",
       "      <td>...</td>\n",
       "      <td>...</td>\n",
       "      <td>...</td>\n",
       "      <td>...</td>\n",
       "    </tr>\n",
       "    <tr>\n",
       "      <th>2539</th>\n",
       "      <td>USA</td>\n",
       "      <td>total</td>\n",
       "      <td>2010</td>\n",
       "      <td>309326295.0</td>\n",
       "      <td>NaN</td>\n",
       "      <td>NaN</td>\n",
       "    </tr>\n",
       "    <tr>\n",
       "      <th>2540</th>\n",
       "      <td>USA</td>\n",
       "      <td>under18</td>\n",
       "      <td>2011</td>\n",
       "      <td>73902222.0</td>\n",
       "      <td>NaN</td>\n",
       "      <td>NaN</td>\n",
       "    </tr>\n",
       "    <tr>\n",
       "      <th>2541</th>\n",
       "      <td>USA</td>\n",
       "      <td>total</td>\n",
       "      <td>2011</td>\n",
       "      <td>311582564.0</td>\n",
       "      <td>NaN</td>\n",
       "      <td>NaN</td>\n",
       "    </tr>\n",
       "    <tr>\n",
       "      <th>2542</th>\n",
       "      <td>USA</td>\n",
       "      <td>under18</td>\n",
       "      <td>2012</td>\n",
       "      <td>73708179.0</td>\n",
       "      <td>NaN</td>\n",
       "      <td>NaN</td>\n",
       "    </tr>\n",
       "    <tr>\n",
       "      <th>2543</th>\n",
       "      <td>USA</td>\n",
       "      <td>total</td>\n",
       "      <td>2012</td>\n",
       "      <td>313873685.0</td>\n",
       "      <td>NaN</td>\n",
       "      <td>NaN</td>\n",
       "    </tr>\n",
       "  </tbody>\n",
       "</table>\n",
       "<p>96 rows × 6 columns</p>\n",
       "</div>"
      ],
      "text/plain": [
       "     state/region     ages  year   population        state abbreviation\n",
       "2448           PR  under18  1990          NaN  Puerto Rico          NaN\n",
       "2449           PR    total  1990          NaN  Puerto Rico          NaN\n",
       "2450           PR    total  1991          NaN  Puerto Rico          NaN\n",
       "2451           PR  under18  1991          NaN  Puerto Rico          NaN\n",
       "2452           PR    total  1993          NaN  Puerto Rico          NaN\n",
       "...           ...      ...   ...          ...          ...          ...\n",
       "2539          USA    total  2010  309326295.0          NaN          NaN\n",
       "2540          USA  under18  2011   73902222.0          NaN          NaN\n",
       "2541          USA    total  2011  311582564.0          NaN          NaN\n",
       "2542          USA  under18  2012   73708179.0          NaN          NaN\n",
       "2543          USA    total  2012  313873685.0          NaN          NaN\n",
       "\n",
       "[96 rows x 6 columns]"
      ]
     },
     "execution_count": 104,
     "metadata": {},
     "output_type": "execute_result"
    }
   ],
   "source": [
    "merged.loc[merged.isna().any(axis=1)]"
   ]
  },
  {
   "cell_type": "code",
   "execution_count": 105,
   "id": "6e7dc479-6d58-4b77-8c84-9b3602e19d9b",
   "metadata": {},
   "outputs": [],
   "source": [
    "merged2 = pd.merge(merged, areas, how='left', on='state')"
   ]
  },
  {
   "cell_type": "code",
   "execution_count": 106,
   "id": "1b1274c2-df37-4959-890f-c6565dc0aaa2",
   "metadata": {},
   "outputs": [
    {
     "data": {
      "text/plain": [
       "array(['USA'], dtype=object)"
      ]
     },
     "execution_count": 106,
     "metadata": {},
     "output_type": "execute_result"
    }
   ],
   "source": [
    "merged2.loc[merged2['area (sq. mi)'].isna()]['state/region'].unique()"
   ]
  },
  {
   "cell_type": "code",
   "execution_count": 107,
   "id": "ec82799e-aba0-4db7-b8f9-e81d5d1286c7",
   "metadata": {},
   "outputs": [],
   "source": [
    "merged2 = merged2.loc[merged2['area (sq. mi)'].notna()]"
   ]
  },
  {
   "cell_type": "code",
   "execution_count": 108,
   "id": "e7f2ea23-39f5-4693-96f8-76be76f3de12",
   "metadata": {},
   "outputs": [
    {
     "data": {
      "text/html": [
       "<div>\n",
       "<style scoped>\n",
       "    .dataframe tbody tr th:only-of-type {\n",
       "        vertical-align: middle;\n",
       "    }\n",
       "\n",
       "    .dataframe tbody tr th {\n",
       "        vertical-align: top;\n",
       "    }\n",
       "\n",
       "    .dataframe thead th {\n",
       "        text-align: right;\n",
       "    }\n",
       "</style>\n",
       "<table border=\"1\" class=\"dataframe\">\n",
       "  <thead>\n",
       "    <tr style=\"text-align: right;\">\n",
       "      <th></th>\n",
       "      <th>state/region</th>\n",
       "      <th>ages</th>\n",
       "      <th>year</th>\n",
       "      <th>population</th>\n",
       "      <th>state</th>\n",
       "      <th>abbreviation</th>\n",
       "      <th>area (sq. mi)</th>\n",
       "    </tr>\n",
       "  </thead>\n",
       "  <tbody>\n",
       "    <tr>\n",
       "      <th>0</th>\n",
       "      <td>AL</td>\n",
       "      <td>under18</td>\n",
       "      <td>2012</td>\n",
       "      <td>1117489.0</td>\n",
       "      <td>Alabama</td>\n",
       "      <td>AL</td>\n",
       "      <td>52423.0</td>\n",
       "    </tr>\n",
       "    <tr>\n",
       "      <th>1</th>\n",
       "      <td>AL</td>\n",
       "      <td>total</td>\n",
       "      <td>2012</td>\n",
       "      <td>4817528.0</td>\n",
       "      <td>Alabama</td>\n",
       "      <td>AL</td>\n",
       "      <td>52423.0</td>\n",
       "    </tr>\n",
       "    <tr>\n",
       "      <th>2</th>\n",
       "      <td>AL</td>\n",
       "      <td>under18</td>\n",
       "      <td>2010</td>\n",
       "      <td>1130966.0</td>\n",
       "      <td>Alabama</td>\n",
       "      <td>AL</td>\n",
       "      <td>52423.0</td>\n",
       "    </tr>\n",
       "    <tr>\n",
       "      <th>3</th>\n",
       "      <td>AL</td>\n",
       "      <td>total</td>\n",
       "      <td>2010</td>\n",
       "      <td>4785570.0</td>\n",
       "      <td>Alabama</td>\n",
       "      <td>AL</td>\n",
       "      <td>52423.0</td>\n",
       "    </tr>\n",
       "    <tr>\n",
       "      <th>4</th>\n",
       "      <td>AL</td>\n",
       "      <td>under18</td>\n",
       "      <td>2011</td>\n",
       "      <td>1125763.0</td>\n",
       "      <td>Alabama</td>\n",
       "      <td>AL</td>\n",
       "      <td>52423.0</td>\n",
       "    </tr>\n",
       "    <tr>\n",
       "      <th>...</th>\n",
       "      <td>...</td>\n",
       "      <td>...</td>\n",
       "      <td>...</td>\n",
       "      <td>...</td>\n",
       "      <td>...</td>\n",
       "      <td>...</td>\n",
       "      <td>...</td>\n",
       "    </tr>\n",
       "    <tr>\n",
       "      <th>2491</th>\n",
       "      <td>PR</td>\n",
       "      <td>under18</td>\n",
       "      <td>2010</td>\n",
       "      <td>896945.0</td>\n",
       "      <td>Puerto Rico</td>\n",
       "      <td>NaN</td>\n",
       "      <td>3515.0</td>\n",
       "    </tr>\n",
       "    <tr>\n",
       "      <th>2492</th>\n",
       "      <td>PR</td>\n",
       "      <td>under18</td>\n",
       "      <td>2011</td>\n",
       "      <td>869327.0</td>\n",
       "      <td>Puerto Rico</td>\n",
       "      <td>NaN</td>\n",
       "      <td>3515.0</td>\n",
       "    </tr>\n",
       "    <tr>\n",
       "      <th>2493</th>\n",
       "      <td>PR</td>\n",
       "      <td>total</td>\n",
       "      <td>2011</td>\n",
       "      <td>3686580.0</td>\n",
       "      <td>Puerto Rico</td>\n",
       "      <td>NaN</td>\n",
       "      <td>3515.0</td>\n",
       "    </tr>\n",
       "    <tr>\n",
       "      <th>2494</th>\n",
       "      <td>PR</td>\n",
       "      <td>under18</td>\n",
       "      <td>2012</td>\n",
       "      <td>841740.0</td>\n",
       "      <td>Puerto Rico</td>\n",
       "      <td>NaN</td>\n",
       "      <td>3515.0</td>\n",
       "    </tr>\n",
       "    <tr>\n",
       "      <th>2495</th>\n",
       "      <td>PR</td>\n",
       "      <td>total</td>\n",
       "      <td>2012</td>\n",
       "      <td>3651545.0</td>\n",
       "      <td>Puerto Rico</td>\n",
       "      <td>NaN</td>\n",
       "      <td>3515.0</td>\n",
       "    </tr>\n",
       "  </tbody>\n",
       "</table>\n",
       "<p>2496 rows × 7 columns</p>\n",
       "</div>"
      ],
      "text/plain": [
       "     state/region     ages  year  population        state abbreviation  \\\n",
       "0              AL  under18  2012   1117489.0      Alabama           AL   \n",
       "1              AL    total  2012   4817528.0      Alabama           AL   \n",
       "2              AL  under18  2010   1130966.0      Alabama           AL   \n",
       "3              AL    total  2010   4785570.0      Alabama           AL   \n",
       "4              AL  under18  2011   1125763.0      Alabama           AL   \n",
       "...           ...      ...   ...         ...          ...          ...   \n",
       "2491           PR  under18  2010    896945.0  Puerto Rico          NaN   \n",
       "2492           PR  under18  2011    869327.0  Puerto Rico          NaN   \n",
       "2493           PR    total  2011   3686580.0  Puerto Rico          NaN   \n",
       "2494           PR  under18  2012    841740.0  Puerto Rico          NaN   \n",
       "2495           PR    total  2012   3651545.0  Puerto Rico          NaN   \n",
       "\n",
       "      area (sq. mi)  \n",
       "0           52423.0  \n",
       "1           52423.0  \n",
       "2           52423.0  \n",
       "3           52423.0  \n",
       "4           52423.0  \n",
       "...             ...  \n",
       "2491         3515.0  \n",
       "2492         3515.0  \n",
       "2493         3515.0  \n",
       "2494         3515.0  \n",
       "2495         3515.0  \n",
       "\n",
       "[2496 rows x 7 columns]"
      ]
     },
     "execution_count": 108,
     "metadata": {},
     "output_type": "execute_result"
    }
   ],
   "source": [
    "merged2"
   ]
  },
  {
   "cell_type": "code",
   "execution_count": 109,
   "id": "2f16d4d4-d602-4602-a499-f695fe403666",
   "metadata": {},
   "outputs": [],
   "source": [
    "data2010 = merged2.loc[((merged2.year==2010) & (merged2.ages=='total')),:]"
   ]
  },
  {
   "cell_type": "code",
   "execution_count": 110,
   "id": "b66535f3-51ce-439b-8a66-96663d29ebda",
   "metadata": {},
   "outputs": [
    {
     "name": "stderr",
     "output_type": "stream",
     "text": [
      "/tmp/ipykernel_23209/4097160679.py:1: SettingWithCopyWarning: \n",
      "A value is trying to be set on a copy of a slice from a DataFrame.\n",
      "Try using .loc[row_indexer,col_indexer] = value instead\n",
      "\n",
      "See the caveats in the documentation: https://pandas.pydata.org/pandas-docs/stable/user_guide/indexing.html#returning-a-view-versus-a-copy\n",
      "  data2010.loc[:,'density'] = data2010['population'] / data2010['area (sq. mi)']\n"
     ]
    }
   ],
   "source": [
    "data2010.loc[:,'density'] = data2010['population'] / data2010['area (sq. mi)']"
   ]
  },
  {
   "cell_type": "code",
   "execution_count": 111,
   "id": "4240f250-0ea1-4c6e-8ded-191b36410751",
   "metadata": {},
   "outputs": [
    {
     "data": {
      "text/plain": [
       "state\n",
       "District of Columbia    8898.897059\n",
       "Puerto Rico             1058.665149\n",
       "New Jersey              1009.253268\n",
       "Rhode Island             681.339159\n",
       "Connecticut              645.600649\n",
       "Name: density, dtype: float64"
      ]
     },
     "execution_count": 111,
     "metadata": {},
     "output_type": "execute_result"
    }
   ],
   "source": [
    "data2010.set_index('state').density.sort_values(ascending=False).head()"
   ]
  },
  {
   "cell_type": "code",
   "execution_count": null,
   "id": "81266824-aa48-439a-81a0-598f937a145e",
   "metadata": {},
   "outputs": [],
   "source": []
  }
 ],
 "metadata": {
  "kernelspec": {
   "display_name": "Python 3 (ipykernel)",
   "language": "python",
   "name": "python3"
  },
  "language_info": {
   "codemirror_mode": {
    "name": "ipython",
    "version": 3
   },
   "file_extension": ".py",
   "mimetype": "text/x-python",
   "name": "python",
   "nbconvert_exporter": "python",
   "pygments_lexer": "ipython3",
   "version": "3.8.18"
  }
 },
 "nbformat": 4,
 "nbformat_minor": 5
}
