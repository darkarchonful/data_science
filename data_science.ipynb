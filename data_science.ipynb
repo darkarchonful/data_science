{
 "cells": [
  {
   "cell_type": "code",
   "execution_count": 546,
   "id": "daa3922a-70ce-429c-b36b-c4d6a00da627",
   "metadata": {},
   "outputs": [],
   "source": [
    "import numpy as np"
   ]
  },
  {
   "cell_type": "code",
   "execution_count": 28,
   "id": "f5c6c28f-5a1a-46c1-8863-9b0e8941e556",
   "metadata": {},
   "outputs": [],
   "source": [
    "big_array = np.random.rand(1000000)"
   ]
  },
  {
   "cell_type": "markdown",
   "id": "41aa4222-3984-4909-8609-3271a18b33cf",
   "metadata": {},
   "source": [
    "### Python function"
   ]
  },
  {
   "cell_type": "code",
   "execution_count": 29,
   "id": "b2737749-7c96-4df5-a6d0-a48765ee5e3c",
   "metadata": {},
   "outputs": [
    {
     "name": "stdout",
     "output_type": "stream",
     "text": [
      "102 ms ± 1.84 ms per loop (mean ± std. dev. of 7 runs, 10 loops each)\n"
     ]
    }
   ],
   "source": [
    "%%timeit\n",
    "sum(big_array)"
   ]
  },
  {
   "cell_type": "markdown",
   "id": "e8333289-2a41-46eb-8f7d-7fc8d2559dcc",
   "metadata": {},
   "source": [
    "### Numpy function"
   ]
  },
  {
   "cell_type": "code",
   "execution_count": 30,
   "id": "2bdb73e8-c4a0-41b3-91a1-045770de77f4",
   "metadata": {},
   "outputs": [
    {
     "name": "stdout",
     "output_type": "stream",
     "text": [
      "390 µs ± 7.36 µs per loop (mean ± std. dev. of 7 runs, 1,000 loops each)\n"
     ]
    }
   ],
   "source": [
    "%timeit big_array.sum()"
   ]
  },
  {
   "cell_type": "code",
   "execution_count": 31,
   "id": "a3421c76-dc6c-4f3d-9f03-a27874eaa8de",
   "metadata": {},
   "outputs": [
    {
     "name": "stdout",
     "output_type": "stream",
     "text": [
      "403 µs ± 8.99 µs per loop (mean ± std. dev. of 7 runs, 1,000 loops each)\n"
     ]
    }
   ],
   "source": [
    "%%timeit\n",
    "np.sum(big_array)"
   ]
  },
  {
   "cell_type": "markdown",
   "id": "6c3205c0-a999-4761-b464-8d73bff5722e",
   "metadata": {},
   "source": [
    "### Транслирование матриц"
   ]
  },
  {
   "cell_type": "markdown",
   "id": "325f1eff-a06c-4592-a879-e4ff949bf303",
   "metadata": {},
   "source": [
    "Транслирование одного массива"
   ]
  },
  {
   "cell_type": "code",
   "execution_count": 32,
   "id": "5df0a152-a621-4a44-9734-28d0a0f2e899",
   "metadata": {},
   "outputs": [
    {
     "name": "stdout",
     "output_type": "stream",
     "text": [
      "M = \n",
      "[[0. 0. 0.]\n",
      " [0. 0. 0.]]\n",
      "a = \n",
      "[0 1 2]\n",
      "(2, 3)\n",
      "(3,)\n"
     ]
    },
    {
     "data": {
      "text/plain": [
       "array([[0., 1., 2.],\n",
       "       [0., 1., 2.]])"
      ]
     },
     "execution_count": 32,
     "metadata": {},
     "output_type": "execute_result"
    }
   ],
   "source": [
    "M = np.zeros((2,3))\n",
    "print(f'''M = \n",
    "{M}''')\n",
    "a = np.arange(3)\n",
    "print(f'''a = \n",
    "{a}''')\n",
    "print(M.shape)\n",
    "print(a.shape)\n",
    "\n",
    "M + a"
   ]
  },
  {
   "cell_type": "markdown",
   "id": "6b829b1d-860c-47b4-8b5a-3c0ee0156415",
   "metadata": {},
   "source": [
    "Транслирование обоих массивов"
   ]
  },
  {
   "cell_type": "code",
   "execution_count": 33,
   "id": "7fa23795-e474-40b4-afe5-b58d5489209d",
   "metadata": {},
   "outputs": [
    {
     "name": "stdout",
     "output_type": "stream",
     "text": [
      "[[0]\n",
      " [1]\n",
      " [2]]\n",
      "==========\n",
      "[0 1 2]\n",
      "==========\n",
      "(3, 1)\n",
      "(3,)\n",
      "==========\n"
     ]
    },
    {
     "data": {
      "text/plain": [
       "array([[0, 1, 2],\n",
       "       [1, 2, 3],\n",
       "       [2, 3, 4]])"
      ]
     },
     "execution_count": 33,
     "metadata": {},
     "output_type": "execute_result"
    }
   ],
   "source": [
    "a = np.arange(3).reshape(3,1)\n",
    "print(a)\n",
    "print('='*10)\n",
    "b = np.arange(3)\n",
    "print(b)\n",
    "print('='*10)\n",
    "print(a.shape)\n",
    "print(b.shape)\n",
    "print('='*10)\n",
    "a + b"
   ]
  },
  {
   "cell_type": "markdown",
   "id": "0b5abaf5-52aa-4f83-a4b3-147bdf2a4eaf",
   "metadata": {},
   "source": [
    "Транслирование обоих массивов с ошибкой"
   ]
  },
  {
   "cell_type": "code",
   "execution_count": 34,
   "id": "35586f7f-8993-4f2f-8319-2e8c206ea97d",
   "metadata": {},
   "outputs": [
    {
     "name": "stdout",
     "output_type": "stream",
     "text": [
      "M = [[0. 0.]\n",
      " [0. 0.]\n",
      " [0. 0.]]\n",
      "a = [[0 1 2]]\n",
      "(3, 2)\n",
      "(1, 3)\n"
     ]
    },
    {
     "ename": "ValueError",
     "evalue": "operands could not be broadcast together with shapes (3,2) (1,3) ",
     "output_type": "error",
     "traceback": [
      "\u001b[0;31m---------------------------------------------------------------------------\u001b[0m",
      "\u001b[0;31mValueError\u001b[0m                                Traceback (most recent call last)",
      "Cell \u001b[0;32mIn[34], line 8\u001b[0m\n\u001b[1;32m      5\u001b[0m \u001b[38;5;28mprint\u001b[39m(M\u001b[38;5;241m.\u001b[39mshape)\n\u001b[1;32m      6\u001b[0m \u001b[38;5;28mprint\u001b[39m(a\u001b[38;5;241m.\u001b[39mshape)\n\u001b[0;32m----> 8\u001b[0m \u001b[43mM\u001b[49m\u001b[43m \u001b[49m\u001b[38;5;241;43m+\u001b[39;49m\u001b[43m \u001b[49m\u001b[43ma\u001b[49m\n",
      "\u001b[0;31mValueError\u001b[0m: operands could not be broadcast together with shapes (3,2) (1,3) "
     ]
    }
   ],
   "source": [
    "M = np.zeros((3,2))\n",
    "print(f'M = {M}')\n",
    "a = np.arange(3).reshape(1,3)\n",
    "print(f'a = {a}')\n",
    "print(M.shape)\n",
    "print(a.shape)\n",
    "\n",
    "M + a"
   ]
  },
  {
   "cell_type": "markdown",
   "id": "0df08aba-f491-4bf0-b3a1-59a382a999d8",
   "metadata": {},
   "source": [
    "Обход ошибки"
   ]
  },
  {
   "cell_type": "code",
   "execution_count": 35,
   "id": "1ef2c779-1eb8-4bea-8f2c-487e322d1376",
   "metadata": {},
   "outputs": [
    {
     "name": "stdout",
     "output_type": "stream",
     "text": [
      "M = \n",
      "[[0. 0.]\n",
      " [0. 0.]\n",
      " [0. 0.]]\n",
      "a = \n",
      "[[0]\n",
      " [1]\n",
      " [2]]\n",
      "(3, 2)\n",
      "(3, 1)\n"
     ]
    },
    {
     "data": {
      "text/plain": [
       "array([[0., 0.],\n",
       "       [1., 1.],\n",
       "       [2., 2.]])"
      ]
     },
     "execution_count": 35,
     "metadata": {},
     "output_type": "execute_result"
    }
   ],
   "source": [
    "M = np.zeros((3,2))\n",
    "print(f'''M = \n",
    "{M}''')\n",
    "a = np.arange(3).reshape(3, 1)\n",
    "print(f'''a = \n",
    "{a}''')\n",
    "print(M.shape)\n",
    "print(a.shape)\n",
    "\n",
    "M + a"
   ]
  },
  {
   "cell_type": "markdown",
   "id": "e7b1f160-1a85-4867-be14-5ab395dd5c2b",
   "metadata": {},
   "source": [
    "### Центрирование массива"
   ]
  },
  {
   "cell_type": "code",
   "execution_count": 36,
   "id": "a298edf5-ae86-4534-9545-b3f92e1bb5cb",
   "metadata": {},
   "outputs": [
    {
     "data": {
      "text/plain": [
       "array([[0.76590207, 1.7549867 , 1.15188136],\n",
       "       [0.33133608, 0.63047992, 1.49576154],\n",
       "       [1.19884937, 0.04219714, 0.89581875],\n",
       "       [0.87572464, 0.07329453, 1.13726721],\n",
       "       [1.62279734, 0.86934625, 0.47273566],\n",
       "       [1.78316836, 1.1871394 , 1.07321752],\n",
       "       [1.75809003, 0.95918981, 1.11445875],\n",
       "       [0.94582928, 0.97347791, 1.33624829],\n",
       "       [1.50393687, 0.74846749, 1.97735403],\n",
       "       [0.63203533, 0.20004238, 0.36420982]])"
      ]
     },
     "execution_count": 36,
     "metadata": {},
     "output_type": "execute_result"
    }
   ],
   "source": [
    "X = np.random.rand(10,3) * 2\n",
    "X"
   ]
  },
  {
   "cell_type": "code",
   "execution_count": 37,
   "id": "ed27a035-89dd-4334-9a9e-47827a2677b6",
   "metadata": {},
   "outputs": [
    {
     "data": {
      "text/plain": [
       "array([1.14176694, 0.74386215, 1.10189529])"
      ]
     },
     "execution_count": 37,
     "metadata": {},
     "output_type": "execute_result"
    }
   ],
   "source": [
    "Xmean = X.mean(axis=0) # mean по столбцам\n",
    "Xmean"
   ]
  },
  {
   "cell_type": "code",
   "execution_count": 38,
   "id": "3b5fc719-ef12-48ee-af39-d76fc22d199c",
   "metadata": {},
   "outputs": [
    {
     "data": {
      "text/plain": [
       "array([[-0.37586487,  1.01112455,  0.04998607],\n",
       "       [-0.81043085, -0.11338223,  0.39386625],\n",
       "       [ 0.05708243, -0.70166501, -0.20607655],\n",
       "       [-0.2660423 , -0.67056763,  0.03537192],\n",
       "       [ 0.48103041,  0.1254841 , -0.62915963],\n",
       "       [ 0.64140142,  0.44327725, -0.02867778],\n",
       "       [ 0.61632309,  0.21532766,  0.01256346],\n",
       "       [-0.19593766,  0.22961576,  0.234353  ],\n",
       "       [ 0.36216993,  0.00460534,  0.87545874],\n",
       "       [-0.50973161, -0.54381978, -0.73768548]])"
      ]
     },
     "execution_count": 38,
     "metadata": {},
     "output_type": "execute_result"
    }
   ],
   "source": [
    "Xcentered = X - Xmean #отнимаем mean по столбцам из каждого элемента в стоблцах, центрируя матрицу\n",
    "Xcentered"
   ]
  },
  {
   "cell_type": "code",
   "execution_count": 39,
   "id": "795adea6-b5f3-42ce-8a67-93c27b77f288",
   "metadata": {},
   "outputs": [
    {
     "data": {
      "text/plain": [
       "-1.0"
      ]
     },
     "execution_count": 39,
     "metadata": {},
     "output_type": "execute_result"
    }
   ],
   "source": [
    "Xcentered.mean() - 1 #среднее по матрице теперь равно близко к нулю "
   ]
  },
  {
   "cell_type": "markdown",
   "id": "1c031cc7-9ed5-4dc8-b563-02e0ffdb33b9",
   "metadata": {},
   "source": [
    "### Построение графика двумерной ф-ии"
   ]
  },
  {
   "cell_type": "code",
   "execution_count": 365,
   "id": "443beaa5-2b2f-408c-9fe0-cba3aab3ffcf",
   "metadata": {},
   "outputs": [],
   "source": [
    "x = np.linspace(1,5,200)\n",
    "y = np.linspace(1,5,200).reshape(200,1)"
   ]
  },
  {
   "cell_type": "code",
   "execution_count": 366,
   "id": "2325dea2-4d2d-4f46-8154-ccbb26e5cfbb",
   "metadata": {},
   "outputs": [
    {
     "name": "stdout",
     "output_type": "stream",
     "text": [
      "(200,)\n",
      "(200, 1)\n"
     ]
    }
   ],
   "source": [
    "print(x.shape)\n",
    "print(y.shape)"
   ]
  },
  {
   "cell_type": "code",
   "execution_count": 367,
   "id": "645030f2-ea26-48cf-a1a4-bb37e8e6d25c",
   "metadata": {},
   "outputs": [
    {
     "data": {
      "text/plain": [
       "array([[ 2.        ,  2.0201005 ,  2.04020101, ...,  5.95979899,\n",
       "         5.9798995 ,  6.        ],\n",
       "       [ 2.0201005 ,  2.04020101,  2.06030151, ...,  5.9798995 ,\n",
       "         6.        ,  6.0201005 ],\n",
       "       [ 2.04020101,  2.06030151,  2.08040201, ...,  6.        ,\n",
       "         6.0201005 ,  6.04020101],\n",
       "       ...,\n",
       "       [ 5.95979899,  5.9798995 ,  6.        , ...,  9.91959799,\n",
       "         9.93969849,  9.95979899],\n",
       "       [ 5.9798995 ,  6.        ,  6.0201005 , ...,  9.93969849,\n",
       "         9.95979899,  9.9798995 ],\n",
       "       [ 6.        ,  6.0201005 ,  6.04020101, ...,  9.95979899,\n",
       "         9.9798995 , 10.        ]])"
      ]
     },
     "execution_count": 367,
     "metadata": {},
     "output_type": "execute_result"
    }
   ],
   "source": [
    "x + y"
   ]
  },
  {
   "cell_type": "code",
   "execution_count": 368,
   "id": "63f2fe75-dcb4-4929-874e-ad3c85e36a2d",
   "metadata": {},
   "outputs": [
    {
     "data": {
      "text/plain": [
       "array([[ 0.18037951,  0.21476919,  0.25041104, ...,  0.55451769,\n",
       "         0.49885695,  0.44192559],\n",
       "       [ 0.19123854,  0.22549213,  0.26097552, ...,  0.53882736,\n",
       "         0.48226742,  0.4245053 ],\n",
       "       [ 0.20209222,  0.23620517,  0.2715255 , ...,  0.52507534,\n",
       "         0.46781935,  0.40943564],\n",
       "       ...,\n",
       "       [-0.2180203 , -0.21512268, -0.20390566, ...,  0.48933299,\n",
       "         0.43449184,  0.38198828],\n",
       "       [-0.22532804, -0.22151489, -0.20933025, ...,  0.49157343,\n",
       "         0.43953434,  0.39018414],\n",
       "       [-0.23247283, -0.22772908, -0.21456372, ...,  0.49622145,\n",
       "         0.44714611,  0.40107702]])"
      ]
     },
     "execution_count": 368,
     "metadata": {},
     "output_type": "execute_result"
    }
   ],
   "source": [
    "z = np.sin(x) ** 10 + np.cos(10 + y * x) * np.cos(x)\n",
    "z"
   ]
  },
  {
   "cell_type": "code",
   "execution_count": 369,
   "id": "820af8c8-8a83-4dff-8f45-efdf9766cd9d",
   "metadata": {},
   "outputs": [],
   "source": [
    "import matplotlib.pyplot as plt"
   ]
  },
  {
   "cell_type": "code",
   "execution_count": 370,
   "id": "7c4e54da-4e40-41f9-b169-2b26fa2f460f",
   "metadata": {},
   "outputs": [
    {
     "data": {
      "image/png": "[encoded data removed]",
      "text/plain": [
       "<Figure size 640x480 with 2 Axes>"
      ]
     },
     "metadata": {},
     "output_type": "display_data"
    }
   ],
   "source": [
    "plt.imshow(z, origin='lower', cmap='viridis')\n",
    "plt.colorbar()\n",
    "plt.show()"
   ]
  },
  {
   "cell_type": "code",
   "execution_count": 371,
   "id": "7fd91623-33e5-45b3-b838-d46860298117",
   "metadata": {},
   "outputs": [],
   "source": [
    "import pandas as pd"
   ]
  },
  {
   "cell_type": "code",
   "execution_count": 372,
   "id": "47dc159d-8b99-46c7-9c07-da38064d1b8d",
   "metadata": {},
   "outputs": [
    {
     "name": "stdout",
     "output_type": "stream",
     "text": [
      "/opt/airflow/data/datascience\n"
     ]
    }
   ],
   "source": [
    "!pwd"
   ]
  },
  {
   "cell_type": "code",
   "execution_count": 373,
   "id": "8c90462e-9fa8-4a01-bdd2-6d4f56ac3329",
   "metadata": {},
   "outputs": [],
   "source": [
    "rainfall = pd.read_csv('PythonDataScienceHandbook/notebooks_v1/data/Seattle2014.csv')"
   ]
  },
  {
   "cell_type": "code",
   "execution_count": 374,
   "id": "9faa8a98-44b0-4870-a9e4-5254ea9659d9",
   "metadata": {},
   "outputs": [],
   "source": [
    "rainfall = rainfall.PRCP.values / 254"
   ]
  },
  {
   "cell_type": "code",
   "execution_count": 375,
   "id": "5f5d3b4d-8615-4329-b090-8f78d29eead1",
   "metadata": {},
   "outputs": [
    {
     "data": {
      "image/png": "[encoded data removed]",
      "text/plain": [
       "<Figure size 640x480 with 1 Axes>"
      ]
     },
     "metadata": {},
     "output_type": "display_data"
    }
   ],
   "source": [
    "plt.hist(rainfall)\n",
    "plt.show()"
   ]
  },
  {
   "cell_type": "markdown",
   "id": "a95f7304-c0d4-45c1-b0d1-4e4908d28477",
   "metadata": {},
   "source": [
    "### Создание матриц"
   ]
  },
  {
   "cell_type": "code",
   "execution_count": 376,
   "id": "e426e2dc-21d4-4fae-9483-cf0bb5e294b0",
   "metadata": {},
   "outputs": [
    {
     "data": {
      "text/plain": [
       "array([[ 0.23031493, -1.95197448,  1.13325146,  0.60111128,  0.19425856],\n",
       "       [-0.35010038,  0.38077599, -2.05170548,  0.35948125, -0.56746891]])"
      ]
     },
     "execution_count": 376,
     "metadata": {},
     "output_type": "execute_result"
    }
   ],
   "source": [
    "np.random.rand(2,5) # матрица с формой з-ия от 0 до 1\n",
    "np.random.randn(2,5) # матрица с формой з-ия с нормальным распределением"
   ]
  },
  {
   "cell_type": "code",
   "execution_count": 377,
   "id": "680b80ff-fa9e-4eea-9bd9-ea8d73b4b7ef",
   "metadata": {},
   "outputs": [
    {
     "data": {
      "text/plain": [
       "array([[0., 0., 0., 0., 0.],\n",
       "       [0., 0., 0., 0., 0.]])"
      ]
     },
     "execution_count": 377,
     "metadata": {},
     "output_type": "execute_result"
    }
   ],
   "source": [
    "np.zeros(2*5).reshape(2,5) # нулевая матрица с изменением формы"
   ]
  },
  {
   "cell_type": "code",
   "execution_count": 378,
   "id": "1dd58d25-11ec-4873-a96a-5e5bd8cf4d62",
   "metadata": {},
   "outputs": [
    {
     "data": {
      "text/plain": [
       "array([[4, 3, 2, 3, 1],\n",
       "       [3, 3, 2, 2, 1]])"
      ]
     },
     "execution_count": 378,
     "metadata": {},
     "output_type": "execute_result"
    }
   ],
   "source": [
    "np.random.randint(1,5, size=(2,5)) # интовая матрица в интервале значений с заданием формы"
   ]
  },
  {
   "cell_type": "markdown",
   "id": "101a460b-1713-4659-b858-d1d46289a477",
   "metadata": {},
   "source": [
    "### Выбор случайных точек"
   ]
  },
  {
   "cell_type": "code",
   "execution_count": 392,
   "id": "ed3f96c5-5450-4844-94c9-426d35bb58f2",
   "metadata": {},
   "outputs": [
    {
     "name": "stderr",
     "output_type": "stream",
     "text": [
      "/tmp/ipykernel_1358/295815886.py:3: RuntimeWarning: covariance is not symmetric positive-semidefinite.\n",
      "  x = np.random.multivariate_normal(mean, cov, 100)\n"
     ]
    }
   ],
   "source": [
    "mean = np.zeros(2,)\n",
    "cov = np.random.randint(1,5, size=(2,2))\n",
    "x = np.random.multivariate_normal(mean, cov, 100)"
   ]
  },
  {
   "cell_type": "code",
   "execution_count": 393,
   "id": "37d8fa16-0b93-4573-b29a-44245eba14b5",
   "metadata": {},
   "outputs": [
    {
     "data": {
      "text/plain": [
       "(20, 2)"
      ]
     },
     "execution_count": 393,
     "metadata": {},
     "output_type": "execute_result"
    }
   ],
   "source": [
    "indeces = np.random.choice(x.shape[0], size=20, replace=False) # выбираем случайно 20 индексов из интервала shape с учетом неповторения\n",
    "selection = x[indeces]\n",
    "selection.shape"
   ]
  },
  {
   "cell_type": "code",
   "execution_count": 394,
   "id": "5a1e3c3f-6c57-48ea-8f7a-d30b9bdf87ff",
   "metadata": {},
   "outputs": [
    {
     "data": {
      "text/plain": [
       "<matplotlib.collections.PathCollection at 0x7f7d1d3ed490>"
      ]
     },
     "execution_count": 394,
     "metadata": {},
     "output_type": "execute_result"
    },
    {
     "data": {
      "image/png": "[encoded data removed]",
      "text/plain": [
       "<Figure size 640x480 with 1 Axes>"
      ]
     },
     "metadata": {},
     "output_type": "display_data"
    }
   ],
   "source": [
    "plt.scatter(x[:,0], x[:,1], s=10)\n",
    "plt.scatter(selection[:,0], selection[:,1], s=200, c='none', edgecolors='red')"
   ]
  },
  {
   "cell_type": "markdown",
   "id": "6a9af616-e775-4312-88a7-bd175731a676",
   "metadata": {},
   "source": [
    "### Сортировка argsort"
   ]
  },
  {
   "cell_type": "code",
   "execution_count": 404,
   "id": "5d11ab4a-f4ed-42ff-aaa5-e2e863d5bf7b",
   "metadata": {},
   "outputs": [
    {
     "data": {
      "text/plain": [
       "array([ 3, 12,  7,  1, 10,  4,  9,  5,  8, 11, 14,  2,  0, 13,  6])"
      ]
     },
     "execution_count": 404,
     "metadata": {},
     "output_type": "execute_result"
    }
   ],
   "source": [
    "x = np.arange(15)\n",
    "np.random.shuffle(x) # перемешали зн-ия\n",
    "x"
   ]
  },
  {
   "cell_type": "code",
   "execution_count": 407,
   "id": "f98576df-9fc9-4737-9491-4329013e3a37",
   "metadata": {},
   "outputs": [
    {
     "data": {
      "text/plain": [
       "array([12,  3, 11,  0,  5,  7, 14,  2,  8,  6,  4,  9,  1, 13, 10])"
      ]
     },
     "execution_count": 407,
     "metadata": {},
     "output_type": "execute_result"
    }
   ],
   "source": [
    "indeces = np.argsort(x) # собрали индексы отсортированных элементов\n",
    "indeces"
   ]
  },
  {
   "cell_type": "code",
   "execution_count": 408,
   "id": "c707e7d7-1030-4986-9dc1-2ef2ae99938b",
   "metadata": {},
   "outputs": [
    {
     "data": {
      "text/plain": [
       "array([ 0,  1,  2,  3,  4,  5,  6,  7,  8,  9, 10, 11, 12, 13, 14])"
      ]
     },
     "execution_count": 408,
     "metadata": {},
     "output_type": "execute_result"
    }
   ],
   "source": [
    "x[indeces] # проиндексировали массив по отсортированным индексам"
   ]
  },
  {
   "cell_type": "code",
   "execution_count": 534,
   "id": "987cd155-9f06-4ffd-8361-557ca5e1b48f",
   "metadata": {},
   "outputs": [
    {
     "data": {
      "text/plain": [
       "array([[ 0.7122803 , -0.13739509],\n",
       "       [ 0.58029963,  1.43477789],\n",
       "       [ 1.07469127,  3.02197542],\n",
       "       ...,\n",
       "       [ 0.98861131,  0.38536861],\n",
       "       [ 0.60297729,  0.928252  ],\n",
       "       [-0.97321856,  1.46754234]])"
      ]
     },
     "execution_count": 534,
     "metadata": {},
     "output_type": "execute_result"
    }
   ],
   "source": [
    "X = np.random.randn(1000, 2)\n",
    "X"
   ]
  },
  {
   "cell_type": "code",
   "execution_count": 535,
   "id": "47cc5774-152b-4a38-bc57-c717daa795bd",
   "metadata": {},
   "outputs": [
    {
     "data": {
      "text/plain": [
       "(array([  4.,  11.,  49., 127., 210., 227., 211., 111.,  44.,   6.]),\n",
       " array([-3.33875642, -2.72199515, -2.10523387, -1.4884726 , -0.87171133,\n",
       "        -0.25495005,  0.36181122,  0.97857249,  1.59533377,  2.21209504,\n",
       "         2.82885631]),\n",
       " <BarContainer object of 10 artists>)"
      ]
     },
     "execution_count": 535,
     "metadata": {},
     "output_type": "execute_result"
    },
    {
     "data": {
      "image/png": "[encoded data removed]",
      "text/plain": [
       "<Figure size 640x480 with 1 Axes>"
      ]
     },
     "metadata": {},
     "output_type": "display_data"
    }
   ],
   "source": [
    "plt.hist(X[:,0])"
   ]
  },
  {
   "cell_type": "code",
   "execution_count": 536,
   "id": "6e4de73f-b19d-4267-9693-3bba01578729",
   "metadata": {},
   "outputs": [
    {
     "data": {
      "text/plain": [
       "<matplotlib.collections.PathCollection at 0x7f7d1b5976d0>"
      ]
     },
     "execution_count": 536,
     "metadata": {},
     "output_type": "execute_result"
    },
    {
     "data": {
      "image/png": "[encoded data removed]",
      "text/plain": [
       "<Figure size 640x480 with 1 Axes>"
      ]
     },
     "metadata": {},
     "output_type": "display_data"
    }
   ],
   "source": [
    "plt.scatter(X[:,0], X[:,1], s=10)"
   ]
  },
  {
   "cell_type": "code",
   "execution_count": 537,
   "id": "86acf748-21da-4080-88df-d4ae056f21bc",
   "metadata": {},
   "outputs": [
    {
     "data": {
      "text/plain": [
       "array([[[ 0.7122803 , -0.13739509]],\n",
       "\n",
       "       [[ 0.58029963,  1.43477789]],\n",
       "\n",
       "       [[ 1.07469127,  3.02197542]],\n",
       "\n",
       "       ...,\n",
       "\n",
       "       [[ 0.98861131,  0.38536861]],\n",
       "\n",
       "       [[ 0.60297729,  0.928252  ]],\n",
       "\n",
       "       [[-0.97321856,  1.46754234]]])"
      ]
     },
     "execution_count": 537,
     "metadata": {},
     "output_type": "execute_result"
    }
   ],
   "source": [
    "X[:, np.newaxis, :]"
   ]
  },
  {
   "cell_type": "code",
   "execution_count": 538,
   "id": "cc7d0554-2f4c-492c-81a0-d4d43b0a7f52",
   "metadata": {},
   "outputs": [
    {
     "data": {
      "text/plain": [
       "array([[[ 0.7122803 , -0.13739509],\n",
       "        [ 0.58029963,  1.43477789],\n",
       "        [ 1.07469127,  3.02197542],\n",
       "        ...,\n",
       "        [ 0.98861131,  0.38536861],\n",
       "        [ 0.60297729,  0.928252  ],\n",
       "        [-0.97321856,  1.46754234]]])"
      ]
     },
     "execution_count": 538,
     "metadata": {},
     "output_type": "execute_result"
    }
   ],
   "source": [
    "X[np.newaxis, :, :]"
   ]
  },
  {
   "cell_type": "code",
   "execution_count": 539,
   "id": "8d5431f5-c4d9-4ad7-96d2-d61d4e8f631b",
   "metadata": {},
   "outputs": [
    {
     "data": {
      "text/plain": [
       "array([[[0.00000000e+00, 0.00000000e+00],\n",
       "        [1.74188974e-02, 2.47172786e+00],\n",
       "        [1.31341711e-01, 9.98162205e+00],\n",
       "        ...,\n",
       "        [7.63588270e-02, 2.73281889e-01],\n",
       "        [1.19471462e-02, 1.13560372e+00],\n",
       "        [2.84090639e+00, 2.57582416e+00]],\n",
       "\n",
       "       [[1.74188974e-02, 2.47172786e+00],\n",
       "        [0.00000000e+00, 0.00000000e+00],\n",
       "        [2.44423094e-01, 2.51919603e+00],\n",
       "        ...,\n",
       "        [1.66718428e-01, 1.10125982e+00],\n",
       "        [5.14276645e-04, 2.56568473e-01],\n",
       "        [2.41341875e+00, 1.07350968e-03]],\n",
       "\n",
       "       [[1.31341711e-01, 9.98162205e+00],\n",
       "        [2.44423094e-01, 2.51919603e+00],\n",
       "        [0.00000000e+00, 0.00000000e+00],\n",
       "        ...,\n",
       "        [7.40975960e-03, 6.95169548e+00],\n",
       "        [2.22514072e-01, 4.38367778e+00],\n",
       "        [4.19393465e+00, 2.41626221e+00]],\n",
       "\n",
       "       ...,\n",
       "\n",
       "       [[7.63588270e-02, 2.73281889e-01],\n",
       "        [1.66718428e-01, 1.10125982e+00],\n",
       "        [7.40975960e-03, 6.95169548e+00],\n",
       "        ...,\n",
       "        [0.00000000e+00, 0.00000000e+00],\n",
       "        [1.48713591e-01, 2.94722371e-01],\n",
       "        [3.84877642e+00, 1.17109998e+00]],\n",
       "\n",
       "       [[1.19471462e-02, 1.13560372e+00],\n",
       "        [5.14276645e-04, 2.56568473e-01],\n",
       "        [2.22514072e-01, 4.38367778e+00],\n",
       "        ...,\n",
       "        [1.48713591e-01, 2.94722371e-01],\n",
       "        [0.00000000e+00, 0.00000000e+00],\n",
       "        [2.48439337e+00, 2.90834074e-01]],\n",
       "\n",
       "       [[2.84090639e+00, 2.57582416e+00],\n",
       "        [2.41341875e+00, 1.07350968e-03],\n",
       "        [4.19393465e+00, 2.41626221e+00],\n",
       "        ...,\n",
       "        [3.84877642e+00, 1.17109998e+00],\n",
       "        [2.48439337e+00, 2.90834074e-01],\n",
       "        [0.00000000e+00, 0.00000000e+00]]])"
      ]
     },
     "execution_count": 539,
     "metadata": {},
     "output_type": "execute_result"
    }
   ],
   "source": [
    "df = (X[:, np.newaxis] - X[np.newaxis, :])**2\n",
    "df"
   ]
  },
  {
   "cell_type": "code",
   "execution_count": 540,
   "id": "3904cc3d-9dbc-43fe-b0bd-795d4f5eff9b",
   "metadata": {},
   "outputs": [
    {
     "data": {
      "text/plain": [
       "array([[ 0.        ,  2.48914676, 10.11296376, ...,  0.34964072,\n",
       "         1.14755087,  5.41673055],\n",
       "       [ 2.48914676,  0.        ,  2.76361912, ...,  1.26797825,\n",
       "         0.25708275,  2.41449226],\n",
       "       [10.11296376,  2.76361912,  0.        , ...,  6.95910524,\n",
       "         4.60619185,  6.61019686],\n",
       "       ...,\n",
       "       [ 0.34964072,  1.26797825,  6.95910524, ...,  0.        ,\n",
       "         0.44343596,  5.0198764 ],\n",
       "       [ 1.14755087,  0.25708275,  4.60619185, ...,  0.44343596,\n",
       "         0.        ,  2.77522744],\n",
       "       [ 5.41673055,  2.41449226,  6.61019686, ...,  5.0198764 ,\n",
       "         2.77522744,  0.        ]])"
      ]
     },
     "execution_count": 540,
     "metadata": {},
     "output_type": "execute_result"
    }
   ],
   "source": [
    "dist = df.sum(-1)\n",
    "dist"
   ]
  },
  {
   "cell_type": "code",
   "execution_count": 541,
   "id": "2a826031-d817-44c2-aaab-3cb96cbdebd2",
   "metadata": {},
   "outputs": [
    {
     "data": {
      "text/plain": [
       "array([0., 0., 0., 0., 0., 0., 0., 0., 0., 0., 0., 0., 0., 0., 0., 0., 0.,\n",
       "       0., 0., 0., 0., 0., 0., 0., 0., 0., 0., 0., 0., 0., 0., 0., 0., 0.,\n",
       "       0., 0., 0., 0., 0., 0., 0., 0., 0., 0., 0., 0., 0., 0., 0., 0., 0.,\n",
       "       0., 0., 0., 0., 0., 0., 0., 0., 0., 0., 0., 0., 0., 0., 0., 0., 0.,\n",
       "       0., 0., 0., 0., 0., 0., 0., 0., 0., 0., 0., 0., 0., 0., 0., 0., 0.,\n",
       "       0., 0., 0., 0., 0., 0., 0., 0., 0., 0., 0., 0., 0., 0., 0., 0., 0.,\n",
       "       0., 0., 0., 0., 0., 0., 0., 0., 0., 0., 0., 0., 0., 0., 0., 0., 0.,\n",
       "       0., 0., 0., 0., 0., 0., 0., 0., 0., 0., 0., 0., 0., 0., 0., 0., 0.,\n",
       "       0., 0., 0., 0., 0., 0., 0., 0., 0., 0., 0., 0., 0., 0., 0., 0., 0.,\n",
       "       0., 0., 0., 0., 0., 0., 0., 0., 0., 0., 0., 0., 0., 0., 0., 0., 0.,\n",
       "       0., 0., 0., 0., 0., 0., 0., 0., 0., 0., 0., 0., 0., 0., 0., 0., 0.,\n",
       "       0., 0., 0., 0., 0., 0., 0., 0., 0., 0., 0., 0., 0., 0., 0., 0., 0.,\n",
       "       0., 0., 0., 0., 0., 0., 0., 0., 0., 0., 0., 0., 0., 0., 0., 0., 0.,\n",
       "       0., 0., 0., 0., 0., 0., 0., 0., 0., 0., 0., 0., 0., 0., 0., 0., 0.,\n",
       "       0., 0., 0., 0., 0., 0., 0., 0., 0., 0., 0., 0., 0., 0., 0., 0., 0.,\n",
       "       0., 0., 0., 0., 0., 0., 0., 0., 0., 0., 0., 0., 0., 0., 0., 0., 0.,\n",
       "       0., 0., 0., 0., 0., 0., 0., 0., 0., 0., 0., 0., 0., 0., 0., 0., 0.,\n",
       "       0., 0., 0., 0., 0., 0., 0., 0., 0., 0., 0., 0., 0., 0., 0., 0., 0.,\n",
       "       0., 0., 0., 0., 0., 0., 0., 0., 0., 0., 0., 0., 0., 0., 0., 0., 0.,\n",
       "       0., 0., 0., 0., 0., 0., 0., 0., 0., 0., 0., 0., 0., 0., 0., 0., 0.,\n",
       "       0., 0., 0., 0., 0., 0., 0., 0., 0., 0., 0., 0., 0., 0., 0., 0., 0.,\n",
       "       0., 0., 0., 0., 0., 0., 0., 0., 0., 0., 0., 0., 0., 0., 0., 0., 0.,\n",
       "       0., 0., 0., 0., 0., 0., 0., 0., 0., 0., 0., 0., 0., 0., 0., 0., 0.,\n",
       "       0., 0., 0., 0., 0., 0., 0., 0., 0., 0., 0., 0., 0., 0., 0., 0., 0.,\n",
       "       0., 0., 0., 0., 0., 0., 0., 0., 0., 0., 0., 0., 0., 0., 0., 0., 0.,\n",
       "       0., 0., 0., 0., 0., 0., 0., 0., 0., 0., 0., 0., 0., 0., 0., 0., 0.,\n",
       "       0., 0., 0., 0., 0., 0., 0., 0., 0., 0., 0., 0., 0., 0., 0., 0., 0.,\n",
       "       0., 0., 0., 0., 0., 0., 0., 0., 0., 0., 0., 0., 0., 0., 0., 0., 0.,\n",
       "       0., 0., 0., 0., 0., 0., 0., 0., 0., 0., 0., 0., 0., 0., 0., 0., 0.,\n",
       "       0., 0., 0., 0., 0., 0., 0., 0., 0., 0., 0., 0., 0., 0., 0., 0., 0.,\n",
       "       0., 0., 0., 0., 0., 0., 0., 0., 0., 0., 0., 0., 0., 0., 0., 0., 0.,\n",
       "       0., 0., 0., 0., 0., 0., 0., 0., 0., 0., 0., 0., 0., 0., 0., 0., 0.,\n",
       "       0., 0., 0., 0., 0., 0., 0., 0., 0., 0., 0., 0., 0., 0., 0., 0., 0.,\n",
       "       0., 0., 0., 0., 0., 0., 0., 0., 0., 0., 0., 0., 0., 0., 0., 0., 0.,\n",
       "       0., 0., 0., 0., 0., 0., 0., 0., 0., 0., 0., 0., 0., 0., 0., 0., 0.,\n",
       "       0., 0., 0., 0., 0., 0., 0., 0., 0., 0., 0., 0., 0., 0., 0., 0., 0.,\n",
       "       0., 0., 0., 0., 0., 0., 0., 0., 0., 0., 0., 0., 0., 0., 0., 0., 0.,\n",
       "       0., 0., 0., 0., 0., 0., 0., 0., 0., 0., 0., 0., 0., 0., 0., 0., 0.,\n",
       "       0., 0., 0., 0., 0., 0., 0., 0., 0., 0., 0., 0., 0., 0., 0., 0., 0.,\n",
       "       0., 0., 0., 0., 0., 0., 0., 0., 0., 0., 0., 0., 0., 0., 0., 0., 0.,\n",
       "       0., 0., 0., 0., 0., 0., 0., 0., 0., 0., 0., 0., 0., 0., 0., 0., 0.,\n",
       "       0., 0., 0., 0., 0., 0., 0., 0., 0., 0., 0., 0., 0., 0., 0., 0., 0.,\n",
       "       0., 0., 0., 0., 0., 0., 0., 0., 0., 0., 0., 0., 0., 0., 0., 0., 0.,\n",
       "       0., 0., 0., 0., 0., 0., 0., 0., 0., 0., 0., 0., 0., 0., 0., 0., 0.,\n",
       "       0., 0., 0., 0., 0., 0., 0., 0., 0., 0., 0., 0., 0., 0., 0., 0., 0.,\n",
       "       0., 0., 0., 0., 0., 0., 0., 0., 0., 0., 0., 0., 0., 0., 0., 0., 0.,\n",
       "       0., 0., 0., 0., 0., 0., 0., 0., 0., 0., 0., 0., 0., 0., 0., 0., 0.,\n",
       "       0., 0., 0., 0., 0., 0., 0., 0., 0., 0., 0., 0., 0., 0., 0., 0., 0.,\n",
       "       0., 0., 0., 0., 0., 0., 0., 0., 0., 0., 0., 0., 0., 0., 0., 0., 0.,\n",
       "       0., 0., 0., 0., 0., 0., 0., 0., 0., 0., 0., 0., 0., 0., 0., 0., 0.,\n",
       "       0., 0., 0., 0., 0., 0., 0., 0., 0., 0., 0., 0., 0., 0., 0., 0., 0.,\n",
       "       0., 0., 0., 0., 0., 0., 0., 0., 0., 0., 0., 0., 0., 0., 0., 0., 0.,\n",
       "       0., 0., 0., 0., 0., 0., 0., 0., 0., 0., 0., 0., 0., 0., 0., 0., 0.,\n",
       "       0., 0., 0., 0., 0., 0., 0., 0., 0., 0., 0., 0., 0., 0., 0., 0., 0.,\n",
       "       0., 0., 0., 0., 0., 0., 0., 0., 0., 0., 0., 0., 0., 0., 0., 0., 0.,\n",
       "       0., 0., 0., 0., 0., 0., 0., 0., 0., 0., 0., 0., 0., 0., 0., 0., 0.,\n",
       "       0., 0., 0., 0., 0., 0., 0., 0., 0., 0., 0., 0., 0., 0., 0., 0., 0.,\n",
       "       0., 0., 0., 0., 0., 0., 0., 0., 0., 0., 0., 0., 0., 0., 0., 0., 0.,\n",
       "       0., 0., 0., 0., 0., 0., 0., 0., 0., 0., 0., 0., 0., 0.])"
      ]
     },
     "execution_count": 541,
     "metadata": {},
     "output_type": "execute_result"
    }
   ],
   "source": [
    "dist.diagonal()"
   ]
  },
  {
   "cell_type": "code",
   "execution_count": 542,
   "id": "c75029c1-f654-4987-b234-f2bad7693233",
   "metadata": {},
   "outputs": [
    {
     "data": {
      "text/plain": [
       "array([[  0, 223, 405, ..., 494, 719, 964],\n",
       "       [  1, 882, 237, ..., 996, 914, 964],\n",
       "       [  2, 222, 275, ..., 996, 914, 964],\n",
       "       ...,\n",
       "       [997, 865, 128, ..., 494, 719, 964],\n",
       "       [998, 702, 654, ..., 719, 914, 964],\n",
       "       [999, 495, 804, ..., 710, 615, 964]])"
      ]
     },
     "execution_count": 542,
     "metadata": {},
     "output_type": "execute_result"
    }
   ],
   "source": [
    "np.argsort(dist, axis=1)"
   ]
  },
  {
   "cell_type": "code",
   "execution_count": 543,
   "id": "c13e943c-00d3-4b20-9c46-1fa96afd1f89",
   "metadata": {},
   "outputs": [],
   "source": [
    "K = 1\n",
    "partition = np.argpartition(dist, K + 1, axis=-1)"
   ]
  },
  {
   "cell_type": "code",
   "execution_count": 544,
   "id": "3d995c78-aa9c-4e0e-9d29-7e9fb0282817",
   "metadata": {},
   "outputs": [
    {
     "data": {
      "text/plain": [
       "array([[  0, 223, 405, ..., 997, 998, 999],\n",
       "       [  1, 882, 237, ..., 997, 998, 999],\n",
       "       [  2, 222, 275, ..., 997, 998, 999],\n",
       "       ...,\n",
       "       [997, 865, 128, ...,   0, 998, 999],\n",
       "       [998, 702, 654, ..., 997,   0, 999],\n",
       "       [999, 495, 804, ..., 997, 998,   0]])"
      ]
     },
     "execution_count": 544,
     "metadata": {},
     "output_type": "execute_result"
    }
   ],
   "source": [
    "partition"
   ]
  },
  {
   "cell_type": "code",
   "execution_count": 545,
   "id": "5d6c2664-99ba-481c-98f7-99db52594bf7",
   "metadata": {},
   "outputs": [
    {
     "data": {
      "image/png": "[encoded data removed]",
      "text/plain": [
       "<Figure size 640x480 with 1 Axes>"
      ]
     },
     "metadata": {},
     "output_type": "display_data"
    }
   ],
   "source": [
    "plt.scatter(X[:,0], X[:,1], s=10)\n",
    "\n",
    "K = 2\n",
    "for i in range(X.shape[0]):\n",
    "    for j in partition[i, :K+1]:\n",
    "        plt.plot(*zip(X[j], X[i]), color='black')\n"
   ]
  },
  {
   "cell_type": "markdown",
   "id": "85260424-7ea3-4235-b902-912e51d18c63",
   "metadata": {},
   "source": [
    "## Pandas"
   ]
  },
  {
   "cell_type": "markdown",
   "id": "1b2e4dba-62da-4d7f-a7e8-20951d394b27",
   "metadata": {},
   "source": [
    "#### Универсальные ф-ии Numpy в Pandas"
   ]
  },
  {
   "cell_type": "code",
   "execution_count": 1,
   "id": "fccd7fe1-bb47-4198-af06-91bb5e707bc7",
   "metadata": {},
   "outputs": [],
   "source": [
    "import pandas as pd\n",
    "import numpy as np"
   ]
  },
  {
   "cell_type": "code",
   "execution_count": 2,
   "id": "451ea12d-b313-4bd4-9912-ddb364079c27",
   "metadata": {},
   "outputs": [
    {
     "data": {
      "text/plain": [
       "0    1\n",
       "1    5\n",
       "2    2\n",
       "3    6\n",
       "dtype: int64"
      ]
     },
     "execution_count": 2,
     "metadata": {},
     "output_type": "execute_result"
    }
   ],
   "source": [
    "ser = pd.Series(np.random.randint(0, 10, 4))\n",
    "ser"
   ]
  },
  {
   "cell_type": "code",
   "execution_count": 3,
   "id": "e665481f-a1d4-41fe-8885-2d2357f290d8",
   "metadata": {},
   "outputs": [
    {
     "data": {
      "text/html": [
       "<div>\n",
       "<style scoped>\n",
       "    .dataframe tbody tr th:only-of-type {\n",
       "        vertical-align: middle;\n",
       "    }\n",
       "\n",
       "    .dataframe tbody tr th {\n",
       "        vertical-align: top;\n",
       "    }\n",
       "\n",
       "    .dataframe thead th {\n",
       "        text-align: right;\n",
       "    }\n",
       "</style>\n",
       "<table border=\"1\" class=\"dataframe\">\n",
       "  <thead>\n",
       "    <tr style=\"text-align: right;\">\n",
       "      <th></th>\n",
       "      <th>0</th>\n",
       "      <th>1</th>\n",
       "      <th>2</th>\n",
       "      <th>3</th>\n",
       "    </tr>\n",
       "  </thead>\n",
       "  <tbody>\n",
       "    <tr>\n",
       "      <th>0</th>\n",
       "      <td>6</td>\n",
       "      <td>2</td>\n",
       "      <td>3</td>\n",
       "      <td>6</td>\n",
       "    </tr>\n",
       "    <tr>\n",
       "      <th>1</th>\n",
       "      <td>6</td>\n",
       "      <td>9</td>\n",
       "      <td>9</td>\n",
       "      <td>7</td>\n",
       "    </tr>\n",
       "    <tr>\n",
       "      <th>2</th>\n",
       "      <td>5</td>\n",
       "      <td>2</td>\n",
       "      <td>8</td>\n",
       "      <td>1</td>\n",
       "    </tr>\n",
       "  </tbody>\n",
       "</table>\n",
       "</div>"
      ],
      "text/plain": [
       "   0  1  2  3\n",
       "0  6  2  3  6\n",
       "1  6  9  9  7\n",
       "2  5  2  8  1"
      ]
     },
     "execution_count": 3,
     "metadata": {},
     "output_type": "execute_result"
    }
   ],
   "source": [
    "df = pd.DataFrame(np.random.randint(0, 10, (3, 4)))\n",
    "df"
   ]
  },
  {
   "cell_type": "code",
   "execution_count": 4,
   "id": "37ee4743-afc0-4a2a-a357-af80a31deafb",
   "metadata": {},
   "outputs": [
    {
     "data": {
      "text/plain": [
       "0      2.718282\n",
       "1    148.413159\n",
       "2      7.389056\n",
       "3    403.428793\n",
       "dtype: float64"
      ]
     },
     "execution_count": 4,
     "metadata": {},
     "output_type": "execute_result"
    }
   ],
   "source": [
    "np.exp(ser)"
   ]
  },
  {
   "cell_type": "code",
   "execution_count": 5,
   "id": "5a75330b-32db-457e-b03f-63badea18ddf",
   "metadata": {},
   "outputs": [
    {
     "data": {
      "text/html": [
       "<div>\n",
       "<style scoped>\n",
       "    .dataframe tbody tr th:only-of-type {\n",
       "        vertical-align: middle;\n",
       "    }\n",
       "\n",
       "    .dataframe tbody tr th {\n",
       "        vertical-align: top;\n",
       "    }\n",
       "\n",
       "    .dataframe thead th {\n",
       "        text-align: right;\n",
       "    }\n",
       "</style>\n",
       "<table border=\"1\" class=\"dataframe\">\n",
       "  <thead>\n",
       "    <tr style=\"text-align: right;\">\n",
       "      <th></th>\n",
       "      <th>0</th>\n",
       "      <th>1</th>\n",
       "      <th>2</th>\n",
       "      <th>3</th>\n",
       "    </tr>\n",
       "  </thead>\n",
       "  <tbody>\n",
       "    <tr>\n",
       "      <th>0</th>\n",
       "      <td>-1.000000</td>\n",
       "      <td>1.000000</td>\n",
       "      <td>7.071068e-01</td>\n",
       "      <td>-1.000000</td>\n",
       "    </tr>\n",
       "    <tr>\n",
       "      <th>1</th>\n",
       "      <td>-1.000000</td>\n",
       "      <td>0.707107</td>\n",
       "      <td>7.071068e-01</td>\n",
       "      <td>-0.707107</td>\n",
       "    </tr>\n",
       "    <tr>\n",
       "      <th>2</th>\n",
       "      <td>-0.707107</td>\n",
       "      <td>1.000000</td>\n",
       "      <td>-2.449294e-16</td>\n",
       "      <td>0.707107</td>\n",
       "    </tr>\n",
       "  </tbody>\n",
       "</table>\n",
       "</div>"
      ],
      "text/plain": [
       "          0         1             2         3\n",
       "0 -1.000000  1.000000  7.071068e-01 -1.000000\n",
       "1 -1.000000  0.707107  7.071068e-01 -0.707107\n",
       "2 -0.707107  1.000000 -2.449294e-16  0.707107"
      ]
     },
     "execution_count": 5,
     "metadata": {},
     "output_type": "execute_result"
    }
   ],
   "source": [
    "np.sin(df * np.pi / 4)"
   ]
  },
  {
   "cell_type": "markdown",
   "id": "0234cfa0-29f5-4e5e-a591-66d422af3f8e",
   "metadata": {},
   "source": [
    "#### сравнение'object' и 'int' в dtype Numpy -> int быстрее"
   ]
  },
  {
   "cell_type": "code",
   "execution_count": 22,
   "id": "eeebf2b8-6bb7-47d2-9edb-eb0c55a55975",
   "metadata": {},
   "outputs": [
    {
     "name": "stdout",
     "output_type": "stream",
     "text": [
      "dtype =  object\n",
      "32.3 ms ± 360 µs per loop (mean ± std. dev. of 7 runs, 10 loops each)\n",
      "\n",
      "dtype =  int64\n",
      "559 µs ± 14.9 µs per loop (mean ± std. dev. of 7 runs, 1,000 loops each)\n",
      "\n"
     ]
    }
   ],
   "source": [
    "for dtype in ['object', 'int']:\n",
    "    m = np.arange(1E6, dtype=dtype)\n",
    "    print('dtype = ', m.dtype)\n",
    "    %timeit m.sum()\n",
    "    print()\n"
   ]
  },
  {
   "cell_type": "markdown",
   "id": "0e69c6a7-0c58-4313-a053-83784a08574b",
   "metadata": {},
   "source": [
    "#### Значения None и nan в Numpy"
   ]
  },
  {
   "cell_type": "code",
   "execution_count": 42,
   "id": "0f2c2346-e8d9-411f-bdba-0aaed5c000ed",
   "metadata": {},
   "outputs": [],
   "source": [
    "vals1 = np.array([1, None, 2, 3])\n",
    "vals2 = np.array([1, np.nan, 2, 3])"
   ]
  },
  {
   "cell_type": "code",
   "execution_count": 43,
   "id": "0adb7e36-ad5c-49fb-91ec-6556128ef64d",
   "metadata": {},
   "outputs": [
    {
     "data": {
      "text/plain": [
       "(array([1, None, 2, 3], dtype=object), array([ 1., nan,  2.,  3.]))"
      ]
     },
     "execution_count": 43,
     "metadata": {},
     "output_type": "execute_result"
    }
   ],
   "source": [
    "vals1, vals2"
   ]
  },
  {
   "cell_type": "code",
   "execution_count": 44,
   "id": "84b26b93-6866-47a0-948f-43cdb2948f3a",
   "metadata": {},
   "outputs": [
    {
     "ename": "TypeError",
     "evalue": "unsupported operand type(s) for +: 'NoneType' and 'int'",
     "output_type": "error",
     "traceback": [
      "\u001b[0;31m---------------------------------------------------------------------------\u001b[0m",
      "\u001b[0;31mTypeError\u001b[0m                                 Traceback (most recent call last)",
      "Cell \u001b[0;32mIn[44], line 1\u001b[0m\n\u001b[0;32m----> 1\u001b[0m \u001b[43mvals1\u001b[49m\u001b[43m \u001b[49m\u001b[38;5;241;43m+\u001b[39;49m\u001b[43m \u001b[49m\u001b[38;5;241;43m1\u001b[39;49m \u001b[38;5;66;03m# None невозможно складывать\u001b[39;00m\n",
      "\u001b[0;31mTypeError\u001b[0m: unsupported operand type(s) for +: 'NoneType' and 'int'"
     ]
    }
   ],
   "source": [
    "vals1 + 1 # None невозможно складывать"
   ]
  },
  {
   "cell_type": "code",
   "execution_count": 45,
   "id": "313249a4-824a-41b1-91da-72303b241435",
   "metadata": {},
   "outputs": [
    {
     "data": {
      "text/plain": [
       "nan"
      ]
     },
     "execution_count": 45,
     "metadata": {},
     "output_type": "execute_result"
    }
   ],
   "source": [
    "np.sum(vals2) # с участием nan все превращается в nan"
   ]
  },
  {
   "cell_type": "code",
   "execution_count": 46,
   "id": "e17459ab-a19a-464f-b1cf-bdbc5a8b2bbe",
   "metadata": {},
   "outputs": [
    {
     "data": {
      "text/plain": [
       "6.0"
      ]
     },
     "execution_count": 46,
     "metadata": {},
     "output_type": "execute_result"
    }
   ],
   "source": [
    "np.nansum(vals2) # либо игнорить nan с помощью ф-ии"
   ]
  },
  {
   "cell_type": "markdown",
   "id": "f54f5afa-30ad-4213-af3c-80f0863f2f8e",
   "metadata": {},
   "source": [
    "#### Значения None и nan в Pandas и выявление пустых зн-ий"
   ]
  },
  {
   "cell_type": "code",
   "execution_count": 55,
   "id": "3c2086ef-2203-43e4-abba-0c69d405409e",
   "metadata": {},
   "outputs": [
    {
     "data": {
      "text/plain": [
       "0    1.0\n",
       "1    NaN\n",
       "2    2.0\n",
       "3    NaN\n",
       "4    3.0\n",
       "dtype: float64"
      ]
     },
     "execution_count": 55,
     "metadata": {},
     "output_type": "execute_result"
    }
   ],
   "source": [
    "ser = pd.Series([1, None, 2, np.nan, 3]) # повышение до nan и float\n",
    "ser"
   ]
  },
  {
   "cell_type": "code",
   "execution_count": 66,
   "id": "8d2522ff-5384-4484-b78a-d216ec03654f",
   "metadata": {},
   "outputs": [
    {
     "data": {
      "text/plain": [
       "0    1.0\n",
       "2    2.0\n",
       "4    3.0\n",
       "dtype: float64"
      ]
     },
     "execution_count": 66,
     "metadata": {},
     "output_type": "execute_result"
    }
   ],
   "source": [
    "ser.loc[ser.notnull()] # маскирование Series"
   ]
  },
  {
   "cell_type": "code",
   "execution_count": 71,
   "id": "6d6310c9-43a5-4c82-a573-401b5d3d16f3",
   "metadata": {},
   "outputs": [],
   "source": [
    "df = pd.DataFrame([\n",
    "    [1, np.nan, 2],\n",
    "    [2, 3,      5],\n",
    "    [np.nan, 3, 5]\n",
    "])"
   ]
  },
  {
   "cell_type": "code",
   "execution_count": 87,
   "id": "17c74e57-da25-4d47-8bc7-437dcf9eb1dd",
   "metadata": {},
   "outputs": [
    {
     "data": {
      "text/plain": [
       "0     True\n",
       "1    False\n",
       "2     True\n",
       "dtype: bool"
      ]
     },
     "execution_count": 87,
     "metadata": {},
     "output_type": "execute_result"
    }
   ],
   "source": [
    "df.isna().any(axis=1)"
   ]
  },
  {
   "cell_type": "markdown",
   "id": "0fc844ea-d4e7-4d86-ab28-c5b54168c61a",
   "metadata": {},
   "source": [
    "#### Ф-ия создания DataFrame"
   ]
  },
  {
   "cell_type": "code",
   "execution_count": 94,
   "id": "ac8aba0e-d946-47e9-a99b-cb17ee59a21b",
   "metadata": {},
   "outputs": [],
   "source": [
    "cols = 'ABC'\n",
    "ind = range(3)"
   ]
  },
  {
   "cell_type": "code",
   "execution_count": 95,
   "id": "28f17445-98d1-41b9-b9b3-378f94f68adf",
   "metadata": {},
   "outputs": [],
   "source": [
    "def make_df(cols, ind):\n",
    "    data = {c: [str(c) + str(i) for i in ind] for c in cols}\n",
    "    return pd.DataFrame(data, ind)"
   ]
  },
  {
   "cell_type": "code",
   "execution_count": 97,
   "id": "7eb9af8d-9de5-495c-b883-e168267d9755",
   "metadata": {},
   "outputs": [],
   "source": [
    "df1 = make_df('AB', [1,2])\n",
    "df2 = make_df('AB', [3,4])"
   ]
  },
  {
   "cell_type": "markdown",
   "id": "a6593cbb-05ac-4124-a6a4-94a1e2418652",
   "metadata": {},
   "source": [
    "#### Merges Pandas"
   ]
  },
  {
   "cell_type": "code",
   "execution_count": 354,
   "id": "57f7b451-1f30-441a-876d-a509d34d25ef",
   "metadata": {},
   "outputs": [
    {
     "name": "stdout",
     "output_type": "stream",
     "text": [
      "  % Total    % Received % Xferd  Average Speed   Time    Time     Time  Current\n",
      "                                 Dload  Upload   Total   Spent    Left  Speed\n",
      "100 57935  100 57935    0     0   174k      0 --:--:-- --:--:-- --:--:--  174k\n",
      "  % Total    % Received % Xferd  Average Speed   Time    Time     Time  Current\n",
      "                                 Dload  Upload   Total   Spent    Left  Speed\n",
      "100   835  100   835    0     0   3047      0 --:--:-- --:--:-- --:--:--  3036\n",
      "  % Total    % Received % Xferd  Average Speed   Time    Time     Time  Current\n",
      "                                 Dload  Upload   Total   Spent    Left  Speed\n",
      "100   872  100   872    0     0   3194      0 --:--:-- --:--:-- --:--:--  3182\n"
     ]
    }
   ],
   "source": [
    "!curl -O https://raw.githubusercontent.com/jakevdp/PythonDataScienceHandbook/master/notebooks/data/state-population.csv\n",
    "!curl -O https://raw.githubusercontent.com/jakevdp/PythonDataScienceHandbook/master/notebooks/data/state-areas.csv\n",
    "!curl -O https://raw.githubusercontent.com/jakevdp/PythonDataScienceHandbook/master/notebooks/data/state-abbrevs.csv"
   ]
  },
  {
   "cell_type": "code",
   "execution_count": 355,
   "id": "d8b90fa8-b38e-4f43-b533-03f0eec75304",
   "metadata": {},
   "outputs": [
    {
     "name": "stdout",
     "output_type": "stream",
     "text": [
      "  state/region     ages  year  population\n",
      "0           AL  under18  2012   1117489.0\n",
      "(2544, 4)\n",
      "     state  area (sq. mi)\n",
      "0  Alabama          52423\n",
      "\n",
      "     state abbreviation\n",
      "0  Alabama           AL\n"
     ]
    }
   ],
   "source": [
    "pop = pd.read_csv('state-population.csv')\n",
    "areas = pd.read_csv('state-areas.csv')\n",
    "abbrevs = pd.read_csv('state-abbrevs.csv')\n",
    "print(pop.head(1))\n",
    "print(pop.shape)\n",
    "print(areas.head(1))\n",
    "print()\n",
    "print(abbrevs.head(1))"
   ]
  },
  {
   "cell_type": "code",
   "execution_count": 356,
   "id": "1901c4b5-009a-43c8-a42d-99b9bce6f450",
   "metadata": {},
   "outputs": [],
   "source": [
    "merged = pd.merge(pop, abbrevs, how='outer', left_on='state/region', right_on='abbreviation')"
   ]
  },
  {
   "cell_type": "code",
   "execution_count": 357,
   "id": "5acc1859-661d-4efa-a2ce-45a8e56e29c0",
   "metadata": {},
   "outputs": [
    {
     "data": {
      "text/html": [
       "<div>\n",
       "<style scoped>\n",
       "    .dataframe tbody tr th:only-of-type {\n",
       "        vertical-align: middle;\n",
       "    }\n",
       "\n",
       "    .dataframe tbody tr th {\n",
       "        vertical-align: top;\n",
       "    }\n",
       "\n",
       "    .dataframe thead th {\n",
       "        text-align: right;\n",
       "    }\n",
       "</style>\n",
       "<table border=\"1\" class=\"dataframe\">\n",
       "  <thead>\n",
       "    <tr style=\"text-align: right;\">\n",
       "      <th></th>\n",
       "      <th>state/region</th>\n",
       "      <th>ages</th>\n",
       "      <th>year</th>\n",
       "      <th>population</th>\n",
       "      <th>state</th>\n",
       "      <th>abbreviation</th>\n",
       "    </tr>\n",
       "  </thead>\n",
       "  <tbody>\n",
       "    <tr>\n",
       "      <th>2448</th>\n",
       "      <td>PR</td>\n",
       "      <td>under18</td>\n",
       "      <td>1990</td>\n",
       "      <td>NaN</td>\n",
       "      <td>NaN</td>\n",
       "      <td>NaN</td>\n",
       "    </tr>\n",
       "    <tr>\n",
       "      <th>2449</th>\n",
       "      <td>PR</td>\n",
       "      <td>total</td>\n",
       "      <td>1990</td>\n",
       "      <td>NaN</td>\n",
       "      <td>NaN</td>\n",
       "      <td>NaN</td>\n",
       "    </tr>\n",
       "    <tr>\n",
       "      <th>2450</th>\n",
       "      <td>PR</td>\n",
       "      <td>total</td>\n",
       "      <td>1991</td>\n",
       "      <td>NaN</td>\n",
       "      <td>NaN</td>\n",
       "      <td>NaN</td>\n",
       "    </tr>\n",
       "    <tr>\n",
       "      <th>2451</th>\n",
       "      <td>PR</td>\n",
       "      <td>under18</td>\n",
       "      <td>1991</td>\n",
       "      <td>NaN</td>\n",
       "      <td>NaN</td>\n",
       "      <td>NaN</td>\n",
       "    </tr>\n",
       "    <tr>\n",
       "      <th>2452</th>\n",
       "      <td>PR</td>\n",
       "      <td>total</td>\n",
       "      <td>1993</td>\n",
       "      <td>NaN</td>\n",
       "      <td>NaN</td>\n",
       "      <td>NaN</td>\n",
       "    </tr>\n",
       "    <tr>\n",
       "      <th>...</th>\n",
       "      <td>...</td>\n",
       "      <td>...</td>\n",
       "      <td>...</td>\n",
       "      <td>...</td>\n",
       "      <td>...</td>\n",
       "      <td>...</td>\n",
       "    </tr>\n",
       "    <tr>\n",
       "      <th>2539</th>\n",
       "      <td>USA</td>\n",
       "      <td>total</td>\n",
       "      <td>2010</td>\n",
       "      <td>309326295.0</td>\n",
       "      <td>NaN</td>\n",
       "      <td>NaN</td>\n",
       "    </tr>\n",
       "    <tr>\n",
       "      <th>2540</th>\n",
       "      <td>USA</td>\n",
       "      <td>under18</td>\n",
       "      <td>2011</td>\n",
       "      <td>73902222.0</td>\n",
       "      <td>NaN</td>\n",
       "      <td>NaN</td>\n",
       "    </tr>\n",
       "    <tr>\n",
       "      <th>2541</th>\n",
       "      <td>USA</td>\n",
       "      <td>total</td>\n",
       "      <td>2011</td>\n",
       "      <td>311582564.0</td>\n",
       "      <td>NaN</td>\n",
       "      <td>NaN</td>\n",
       "    </tr>\n",
       "    <tr>\n",
       "      <th>2542</th>\n",
       "      <td>USA</td>\n",
       "      <td>under18</td>\n",
       "      <td>2012</td>\n",
       "      <td>73708179.0</td>\n",
       "      <td>NaN</td>\n",
       "      <td>NaN</td>\n",
       "    </tr>\n",
       "    <tr>\n",
       "      <th>2543</th>\n",
       "      <td>USA</td>\n",
       "      <td>total</td>\n",
       "      <td>2012</td>\n",
       "      <td>313873685.0</td>\n",
       "      <td>NaN</td>\n",
       "      <td>NaN</td>\n",
       "    </tr>\n",
       "  </tbody>\n",
       "</table>\n",
       "<p>96 rows × 6 columns</p>\n",
       "</div>"
      ],
      "text/plain": [
       "     state/region     ages  year   population state abbreviation\n",
       "2448           PR  under18  1990          NaN   NaN          NaN\n",
       "2449           PR    total  1990          NaN   NaN          NaN\n",
       "2450           PR    total  1991          NaN   NaN          NaN\n",
       "2451           PR  under18  1991          NaN   NaN          NaN\n",
       "2452           PR    total  1993          NaN   NaN          NaN\n",
       "...           ...      ...   ...          ...   ...          ...\n",
       "2539          USA    total  2010  309326295.0   NaN          NaN\n",
       "2540          USA  under18  2011   73902222.0   NaN          NaN\n",
       "2541          USA    total  2011  311582564.0   NaN          NaN\n",
       "2542          USA  under18  2012   73708179.0   NaN          NaN\n",
       "2543          USA    total  2012  313873685.0   NaN          NaN\n",
       "\n",
       "[96 rows x 6 columns]"
      ]
     },
     "execution_count": 357,
     "metadata": {},
     "output_type": "execute_result"
    }
   ],
   "source": [
    "merged.loc[merged.isna().any(axis=1),:]"
   ]
  },
  {
   "cell_type": "code",
   "execution_count": 358,
   "id": "ec3cc87c-c86e-49f6-94be-ad0710b74445",
   "metadata": {},
   "outputs": [],
   "source": [
    "merged.loc[merged['state/region']=='PR','state'] = 'Puerto Rico'"
   ]
  },
  {
   "cell_type": "code",
   "execution_count": 359,
   "id": "4336184a-decc-4a4d-9bf4-80f8a8fd14ad",
   "metadata": {},
   "outputs": [
    {
     "data": {
      "text/html": [
       "<div>\n",
       "<style scoped>\n",
       "    .dataframe tbody tr th:only-of-type {\n",
       "        vertical-align: middle;\n",
       "    }\n",
       "\n",
       "    .dataframe tbody tr th {\n",
       "        vertical-align: top;\n",
       "    }\n",
       "\n",
       "    .dataframe thead th {\n",
       "        text-align: right;\n",
       "    }\n",
       "</style>\n",
       "<table border=\"1\" class=\"dataframe\">\n",
       "  <thead>\n",
       "    <tr style=\"text-align: right;\">\n",
       "      <th></th>\n",
       "      <th>state/region</th>\n",
       "      <th>ages</th>\n",
       "      <th>year</th>\n",
       "      <th>population</th>\n",
       "      <th>state</th>\n",
       "      <th>abbreviation</th>\n",
       "    </tr>\n",
       "  </thead>\n",
       "  <tbody>\n",
       "    <tr>\n",
       "      <th>2448</th>\n",
       "      <td>PR</td>\n",
       "      <td>under18</td>\n",
       "      <td>1990</td>\n",
       "      <td>NaN</td>\n",
       "      <td>Puerto Rico</td>\n",
       "      <td>NaN</td>\n",
       "    </tr>\n",
       "    <tr>\n",
       "      <th>2449</th>\n",
       "      <td>PR</td>\n",
       "      <td>total</td>\n",
       "      <td>1990</td>\n",
       "      <td>NaN</td>\n",
       "      <td>Puerto Rico</td>\n",
       "      <td>NaN</td>\n",
       "    </tr>\n",
       "    <tr>\n",
       "      <th>2450</th>\n",
       "      <td>PR</td>\n",
       "      <td>total</td>\n",
       "      <td>1991</td>\n",
       "      <td>NaN</td>\n",
       "      <td>Puerto Rico</td>\n",
       "      <td>NaN</td>\n",
       "    </tr>\n",
       "    <tr>\n",
       "      <th>2451</th>\n",
       "      <td>PR</td>\n",
       "      <td>under18</td>\n",
       "      <td>1991</td>\n",
       "      <td>NaN</td>\n",
       "      <td>Puerto Rico</td>\n",
       "      <td>NaN</td>\n",
       "    </tr>\n",
       "    <tr>\n",
       "      <th>2452</th>\n",
       "      <td>PR</td>\n",
       "      <td>total</td>\n",
       "      <td>1993</td>\n",
       "      <td>NaN</td>\n",
       "      <td>Puerto Rico</td>\n",
       "      <td>NaN</td>\n",
       "    </tr>\n",
       "    <tr>\n",
       "      <th>...</th>\n",
       "      <td>...</td>\n",
       "      <td>...</td>\n",
       "      <td>...</td>\n",
       "      <td>...</td>\n",
       "      <td>...</td>\n",
       "      <td>...</td>\n",
       "    </tr>\n",
       "    <tr>\n",
       "      <th>2539</th>\n",
       "      <td>USA</td>\n",
       "      <td>total</td>\n",
       "      <td>2010</td>\n",
       "      <td>309326295.0</td>\n",
       "      <td>NaN</td>\n",
       "      <td>NaN</td>\n",
       "    </tr>\n",
       "    <tr>\n",
       "      <th>2540</th>\n",
       "      <td>USA</td>\n",
       "      <td>under18</td>\n",
       "      <td>2011</td>\n",
       "      <td>73902222.0</td>\n",
       "      <td>NaN</td>\n",
       "      <td>NaN</td>\n",
       "    </tr>\n",
       "    <tr>\n",
       "      <th>2541</th>\n",
       "      <td>USA</td>\n",
       "      <td>total</td>\n",
       "      <td>2011</td>\n",
       "      <td>311582564.0</td>\n",
       "      <td>NaN</td>\n",
       "      <td>NaN</td>\n",
       "    </tr>\n",
       "    <tr>\n",
       "      <th>2542</th>\n",
       "      <td>USA</td>\n",
       "      <td>under18</td>\n",
       "      <td>2012</td>\n",
       "      <td>73708179.0</td>\n",
       "      <td>NaN</td>\n",
       "      <td>NaN</td>\n",
       "    </tr>\n",
       "    <tr>\n",
       "      <th>2543</th>\n",
       "      <td>USA</td>\n",
       "      <td>total</td>\n",
       "      <td>2012</td>\n",
       "      <td>313873685.0</td>\n",
       "      <td>NaN</td>\n",
       "      <td>NaN</td>\n",
       "    </tr>\n",
       "  </tbody>\n",
       "</table>\n",
       "<p>96 rows × 6 columns</p>\n",
       "</div>"
      ],
      "text/plain": [
       "     state/region     ages  year   population        state abbreviation\n",
       "2448           PR  under18  1990          NaN  Puerto Rico          NaN\n",
       "2449           PR    total  1990          NaN  Puerto Rico          NaN\n",
       "2450           PR    total  1991          NaN  Puerto Rico          NaN\n",
       "2451           PR  under18  1991          NaN  Puerto Rico          NaN\n",
       "2452           PR    total  1993          NaN  Puerto Rico          NaN\n",
       "...           ...      ...   ...          ...          ...          ...\n",
       "2539          USA    total  2010  309326295.0          NaN          NaN\n",
       "2540          USA  under18  2011   73902222.0          NaN          NaN\n",
       "2541          USA    total  2011  311582564.0          NaN          NaN\n",
       "2542          USA  under18  2012   73708179.0          NaN          NaN\n",
       "2543          USA    total  2012  313873685.0          NaN          NaN\n",
       "\n",
       "[96 rows x 6 columns]"
      ]
     },
     "execution_count": 359,
     "metadata": {},
     "output_type": "execute_result"
    }
   ],
   "source": [
    "merged.loc[merged.isna().any(axis=1)]"
   ]
  },
  {
   "cell_type": "code",
   "execution_count": 360,
   "id": "6e7dc479-6d58-4b77-8c84-9b3602e19d9b",
   "metadata": {},
   "outputs": [],
   "source": [
    "merged2 = pd.merge(merged, areas, how='left', on='state')"
   ]
  },
  {
   "cell_type": "code",
   "execution_count": 361,
   "id": "1b1274c2-df37-4959-890f-c6565dc0aaa2",
   "metadata": {},
   "outputs": [
    {
     "data": {
      "text/plain": [
       "array(['USA'], dtype=object)"
      ]
     },
     "execution_count": 361,
     "metadata": {},
     "output_type": "execute_result"
    }
   ],
   "source": [
    "merged2.loc[merged2['area (sq. mi)'].isna()]['state/region'].unique()"
   ]
  },
  {
   "cell_type": "code",
   "execution_count": 362,
   "id": "ec82799e-aba0-4db7-b8f9-e81d5d1286c7",
   "metadata": {},
   "outputs": [],
   "source": [
    "merged2 = merged2.loc[merged2['area (sq. mi)'].notna()]"
   ]
  },
  {
   "cell_type": "code",
   "execution_count": 363,
   "id": "e7f2ea23-39f5-4693-96f8-76be76f3de12",
   "metadata": {},
   "outputs": [
    {
     "data": {
      "text/html": [
       "<div>\n",
       "<style scoped>\n",
       "    .dataframe tbody tr th:only-of-type {\n",
       "        vertical-align: middle;\n",
       "    }\n",
       "\n",
       "    .dataframe tbody tr th {\n",
       "        vertical-align: top;\n",
       "    }\n",
       "\n",
       "    .dataframe thead th {\n",
       "        text-align: right;\n",
       "    }\n",
       "</style>\n",
       "<table border=\"1\" class=\"dataframe\">\n",
       "  <thead>\n",
       "    <tr style=\"text-align: right;\">\n",
       "      <th></th>\n",
       "      <th>state/region</th>\n",
       "      <th>ages</th>\n",
       "      <th>year</th>\n",
       "      <th>population</th>\n",
       "      <th>state</th>\n",
       "      <th>abbreviation</th>\n",
       "      <th>area (sq. mi)</th>\n",
       "    </tr>\n",
       "  </thead>\n",
       "  <tbody>\n",
       "    <tr>\n",
       "      <th>0</th>\n",
       "      <td>AL</td>\n",
       "      <td>under18</td>\n",
       "      <td>2012</td>\n",
       "      <td>1117489.0</td>\n",
       "      <td>Alabama</td>\n",
       "      <td>AL</td>\n",
       "      <td>52423.0</td>\n",
       "    </tr>\n",
       "    <tr>\n",
       "      <th>1</th>\n",
       "      <td>AL</td>\n",
       "      <td>total</td>\n",
       "      <td>2012</td>\n",
       "      <td>4817528.0</td>\n",
       "      <td>Alabama</td>\n",
       "      <td>AL</td>\n",
       "      <td>52423.0</td>\n",
       "    </tr>\n",
       "    <tr>\n",
       "      <th>2</th>\n",
       "      <td>AL</td>\n",
       "      <td>under18</td>\n",
       "      <td>2010</td>\n",
       "      <td>1130966.0</td>\n",
       "      <td>Alabama</td>\n",
       "      <td>AL</td>\n",
       "      <td>52423.0</td>\n",
       "    </tr>\n",
       "    <tr>\n",
       "      <th>3</th>\n",
       "      <td>AL</td>\n",
       "      <td>total</td>\n",
       "      <td>2010</td>\n",
       "      <td>4785570.0</td>\n",
       "      <td>Alabama</td>\n",
       "      <td>AL</td>\n",
       "      <td>52423.0</td>\n",
       "    </tr>\n",
       "    <tr>\n",
       "      <th>4</th>\n",
       "      <td>AL</td>\n",
       "      <td>under18</td>\n",
       "      <td>2011</td>\n",
       "      <td>1125763.0</td>\n",
       "      <td>Alabama</td>\n",
       "      <td>AL</td>\n",
       "      <td>52423.0</td>\n",
       "    </tr>\n",
       "    <tr>\n",
       "      <th>...</th>\n",
       "      <td>...</td>\n",
       "      <td>...</td>\n",
       "      <td>...</td>\n",
       "      <td>...</td>\n",
       "      <td>...</td>\n",
       "      <td>...</td>\n",
       "      <td>...</td>\n",
       "    </tr>\n",
       "    <tr>\n",
       "      <th>2491</th>\n",
       "      <td>PR</td>\n",
       "      <td>under18</td>\n",
       "      <td>2010</td>\n",
       "      <td>896945.0</td>\n",
       "      <td>Puerto Rico</td>\n",
       "      <td>NaN</td>\n",
       "      <td>3515.0</td>\n",
       "    </tr>\n",
       "    <tr>\n",
       "      <th>2492</th>\n",
       "      <td>PR</td>\n",
       "      <td>under18</td>\n",
       "      <td>2011</td>\n",
       "      <td>869327.0</td>\n",
       "      <td>Puerto Rico</td>\n",
       "      <td>NaN</td>\n",
       "      <td>3515.0</td>\n",
       "    </tr>\n",
       "    <tr>\n",
       "      <th>2493</th>\n",
       "      <td>PR</td>\n",
       "      <td>total</td>\n",
       "      <td>2011</td>\n",
       "      <td>3686580.0</td>\n",
       "      <td>Puerto Rico</td>\n",
       "      <td>NaN</td>\n",
       "      <td>3515.0</td>\n",
       "    </tr>\n",
       "    <tr>\n",
       "      <th>2494</th>\n",
       "      <td>PR</td>\n",
       "      <td>under18</td>\n",
       "      <td>2012</td>\n",
       "      <td>841740.0</td>\n",
       "      <td>Puerto Rico</td>\n",
       "      <td>NaN</td>\n",
       "      <td>3515.0</td>\n",
       "    </tr>\n",
       "    <tr>\n",
       "      <th>2495</th>\n",
       "      <td>PR</td>\n",
       "      <td>total</td>\n",
       "      <td>2012</td>\n",
       "      <td>3651545.0</td>\n",
       "      <td>Puerto Rico</td>\n",
       "      <td>NaN</td>\n",
       "      <td>3515.0</td>\n",
       "    </tr>\n",
       "  </tbody>\n",
       "</table>\n",
       "<p>2496 rows × 7 columns</p>\n",
       "</div>"
      ],
      "text/plain": [
       "     state/region     ages  year  population        state abbreviation  \\\n",
       "0              AL  under18  2012   1117489.0      Alabama           AL   \n",
       "1              AL    total  2012   4817528.0      Alabama           AL   \n",
       "2              AL  under18  2010   1130966.0      Alabama           AL   \n",
       "3              AL    total  2010   4785570.0      Alabama           AL   \n",
       "4              AL  under18  2011   1125763.0      Alabama           AL   \n",
       "...           ...      ...   ...         ...          ...          ...   \n",
       "2491           PR  under18  2010    896945.0  Puerto Rico          NaN   \n",
       "2492           PR  under18  2011    869327.0  Puerto Rico          NaN   \n",
       "2493           PR    total  2011   3686580.0  Puerto Rico          NaN   \n",
       "2494           PR  under18  2012    841740.0  Puerto Rico          NaN   \n",
       "2495           PR    total  2012   3651545.0  Puerto Rico          NaN   \n",
       "\n",
       "      area (sq. mi)  \n",
       "0           52423.0  \n",
       "1           52423.0  \n",
       "2           52423.0  \n",
       "3           52423.0  \n",
       "4           52423.0  \n",
       "...             ...  \n",
       "2491         3515.0  \n",
       "2492         3515.0  \n",
       "2493         3515.0  \n",
       "2494         3515.0  \n",
       "2495         3515.0  \n",
       "\n",
       "[2496 rows x 7 columns]"
      ]
     },
     "execution_count": 363,
     "metadata": {},
     "output_type": "execute_result"
    }
   ],
   "source": [
    "merged2"
   ]
  },
  {
   "cell_type": "code",
   "execution_count": 364,
   "id": "2f16d4d4-d602-4602-a499-f695fe403666",
   "metadata": {},
   "outputs": [],
   "source": [
    "data2010 = merged2.loc[((merged2.year==2010) & (merged2.ages=='total')),:]"
   ]
  },
  {
   "cell_type": "code",
   "execution_count": 369,
   "id": "b66535f3-51ce-439b-8a66-96663d29ebda",
   "metadata": {},
   "outputs": [],
   "source": [
    "data2010.loc[:,'density'] = data2010['population'] / data2010['area (sq. mi)']"
   ]
  },
  {
   "cell_type": "code",
   "execution_count": 370,
   "id": "4240f250-0ea1-4c6e-8ded-191b36410751",
   "metadata": {},
   "outputs": [
    {
     "data": {
      "text/plain": [
       "state\n",
       "District of Columbia    8898.897059\n",
       "Puerto Rico             1058.665149\n",
       "New Jersey              1009.253268\n",
       "Rhode Island             681.339159\n",
       "Connecticut              645.600649\n",
       "Name: density, dtype: float64"
      ]
     },
     "execution_count": 370,
     "metadata": {},
     "output_type": "execute_result"
    }
   ],
   "source": [
    "data2010.set_index('state').density.sort_values(ascending=False).head()"
   ]
  },
  {
   "cell_type": "code",
   "execution_count": null,
   "id": "81266824-aa48-439a-81a0-598f937a145e",
   "metadata": {},
   "outputs": [],
   "source": []
  }
 ],
 "metadata": {
  "kernelspec": {
   "display_name": "Python 3 (ipykernel)",
   "language": "python",
   "name": "python3"
  },
  "language_info": {
   "codemirror_mode": {
    "name": "ipython",
    "version": 3
   },
   "file_extension": ".py",
   "mimetype": "text/x-python",
   "name": "python",
   "nbconvert_exporter": "python",
   "pygments_lexer": "ipython3",
   "version": "3.8.18"
  }
 },
 "nbformat": 4,
 "nbformat_minor": 5
}
